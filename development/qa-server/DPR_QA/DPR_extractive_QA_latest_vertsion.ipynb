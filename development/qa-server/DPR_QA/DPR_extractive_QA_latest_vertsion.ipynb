{
  "nbformat": 4,
  "nbformat_minor": 0,
  "metadata": {
    "colab": {
      "name": "DPR_extractive_QA_latest_vertsion.ipynb",
      "provenance": [],
      "collapsed_sections": []
    },
    "kernelspec": {
      "display_name": "Python 3",
      "name": "python3"
    },
    "language_info": {
      "name": "python"
    },
    "widgets": {
      "application/vnd.jupyter.widget-state+json": {
        "5a3bf17de5044a8285dd8a1170d5ff95": {
          "model_module": "@jupyter-widgets/controls",
          "model_name": "HBoxModel",
          "model_module_version": "1.5.0",
          "state": {
            "_view_name": "HBoxView",
            "_dom_classes": [],
            "_model_name": "HBoxModel",
            "_view_module": "@jupyter-widgets/controls",
            "_model_module_version": "1.5.0",
            "_view_count": null,
            "_view_module_version": "1.5.0",
            "box_style": "",
            "layout": "IPY_MODEL_55344a289a5a454cb12da86fdbc4b6c3",
            "_model_module": "@jupyter-widgets/controls",
            "children": [
              "IPY_MODEL_ef738441efbd4b60b539195568ea84d4",
              "IPY_MODEL_7d34cef206674b3997d6803f9ac2fb47",
              "IPY_MODEL_e5edf759b57441eb9bff2dd7ffa50b9e"
            ]
          }
        },
        "55344a289a5a454cb12da86fdbc4b6c3": {
          "model_module": "@jupyter-widgets/base",
          "model_name": "LayoutModel",
          "model_module_version": "1.2.0",
          "state": {
            "_view_name": "LayoutView",
            "grid_template_rows": null,
            "right": null,
            "justify_content": null,
            "_view_module": "@jupyter-widgets/base",
            "overflow": null,
            "_model_module_version": "1.2.0",
            "_view_count": null,
            "flex_flow": null,
            "width": null,
            "min_width": null,
            "border": null,
            "align_items": null,
            "bottom": null,
            "_model_module": "@jupyter-widgets/base",
            "top": null,
            "grid_column": null,
            "overflow_y": null,
            "overflow_x": null,
            "grid_auto_flow": null,
            "grid_area": null,
            "grid_template_columns": null,
            "flex": null,
            "_model_name": "LayoutModel",
            "justify_items": null,
            "grid_row": null,
            "max_height": null,
            "align_content": null,
            "visibility": null,
            "align_self": null,
            "height": null,
            "min_height": null,
            "padding": null,
            "grid_auto_rows": null,
            "grid_gap": null,
            "max_width": null,
            "order": null,
            "_view_module_version": "1.2.0",
            "grid_template_areas": null,
            "object_position": null,
            "object_fit": null,
            "grid_auto_columns": null,
            "margin": null,
            "display": null,
            "left": null
          }
        },
        "ef738441efbd4b60b539195568ea84d4": {
          "model_module": "@jupyter-widgets/controls",
          "model_name": "HTMLModel",
          "model_module_version": "1.5.0",
          "state": {
            "_view_name": "HTMLView",
            "style": "IPY_MODEL_8687b641cb924c0093c7bc3a6ab304e0",
            "_dom_classes": [],
            "description": "",
            "_model_name": "HTMLModel",
            "placeholder": "​",
            "_view_module": "@jupyter-widgets/controls",
            "_model_module_version": "1.5.0",
            "value": "Create embeddings: 100%",
            "_view_count": null,
            "_view_module_version": "1.5.0",
            "description_tooltip": null,
            "_model_module": "@jupyter-widgets/controls",
            "layout": "IPY_MODEL_7719697d68624cecacc0a5b3204f1712"
          }
        },
        "7d34cef206674b3997d6803f9ac2fb47": {
          "model_module": "@jupyter-widgets/controls",
          "model_name": "FloatProgressModel",
          "model_module_version": "1.5.0",
          "state": {
            "_view_name": "ProgressView",
            "style": "IPY_MODEL_74d291e803fd483787af782337bed11f",
            "_dom_classes": [],
            "description": "",
            "_model_name": "FloatProgressModel",
            "bar_style": "",
            "max": 10000,
            "_view_module": "@jupyter-widgets/controls",
            "_model_module_version": "1.5.0",
            "value": 10000,
            "_view_count": null,
            "_view_module_version": "1.5.0",
            "orientation": "horizontal",
            "min": 0,
            "description_tooltip": null,
            "_model_module": "@jupyter-widgets/controls",
            "layout": "IPY_MODEL_591eee4445b14577ac5d197b06aa3e64"
          }
        },
        "e5edf759b57441eb9bff2dd7ffa50b9e": {
          "model_module": "@jupyter-widgets/controls",
          "model_name": "HTMLModel",
          "model_module_version": "1.5.0",
          "state": {
            "_view_name": "HTMLView",
            "style": "IPY_MODEL_3a0ea52083954c31b91f8af898f6f039",
            "_dom_classes": [],
            "description": "",
            "_model_name": "HTMLModel",
            "placeholder": "​",
            "_view_module": "@jupyter-widgets/controls",
            "_model_module_version": "1.5.0",
            "value": " 10000/10000 [04:54&lt;00:00, 33.93 Docs/s]",
            "_view_count": null,
            "_view_module_version": "1.5.0",
            "description_tooltip": null,
            "_model_module": "@jupyter-widgets/controls",
            "layout": "IPY_MODEL_958f7f6f75d945ef873090b70a1c34b3"
          }
        },
        "8687b641cb924c0093c7bc3a6ab304e0": {
          "model_module": "@jupyter-widgets/controls",
          "model_name": "DescriptionStyleModel",
          "model_module_version": "1.5.0",
          "state": {
            "_view_name": "StyleView",
            "_model_name": "DescriptionStyleModel",
            "description_width": "",
            "_view_module": "@jupyter-widgets/base",
            "_model_module_version": "1.5.0",
            "_view_count": null,
            "_view_module_version": "1.2.0",
            "_model_module": "@jupyter-widgets/controls"
          }
        },
        "7719697d68624cecacc0a5b3204f1712": {
          "model_module": "@jupyter-widgets/base",
          "model_name": "LayoutModel",
          "model_module_version": "1.2.0",
          "state": {
            "_view_name": "LayoutView",
            "grid_template_rows": null,
            "right": null,
            "justify_content": null,
            "_view_module": "@jupyter-widgets/base",
            "overflow": null,
            "_model_module_version": "1.2.0",
            "_view_count": null,
            "flex_flow": null,
            "width": null,
            "min_width": null,
            "border": null,
            "align_items": null,
            "bottom": null,
            "_model_module": "@jupyter-widgets/base",
            "top": null,
            "grid_column": null,
            "overflow_y": null,
            "overflow_x": null,
            "grid_auto_flow": null,
            "grid_area": null,
            "grid_template_columns": null,
            "flex": null,
            "_model_name": "LayoutModel",
            "justify_items": null,
            "grid_row": null,
            "max_height": null,
            "align_content": null,
            "visibility": null,
            "align_self": null,
            "height": null,
            "min_height": null,
            "padding": null,
            "grid_auto_rows": null,
            "grid_gap": null,
            "max_width": null,
            "order": null,
            "_view_module_version": "1.2.0",
            "grid_template_areas": null,
            "object_position": null,
            "object_fit": null,
            "grid_auto_columns": null,
            "margin": null,
            "display": null,
            "left": null
          }
        },
        "74d291e803fd483787af782337bed11f": {
          "model_module": "@jupyter-widgets/controls",
          "model_name": "ProgressStyleModel",
          "model_module_version": "1.5.0",
          "state": {
            "_view_name": "StyleView",
            "_model_name": "ProgressStyleModel",
            "description_width": "",
            "_view_module": "@jupyter-widgets/base",
            "_model_module_version": "1.5.0",
            "_view_count": null,
            "_view_module_version": "1.2.0",
            "bar_color": null,
            "_model_module": "@jupyter-widgets/controls"
          }
        },
        "591eee4445b14577ac5d197b06aa3e64": {
          "model_module": "@jupyter-widgets/base",
          "model_name": "LayoutModel",
          "model_module_version": "1.2.0",
          "state": {
            "_view_name": "LayoutView",
            "grid_template_rows": null,
            "right": null,
            "justify_content": null,
            "_view_module": "@jupyter-widgets/base",
            "overflow": null,
            "_model_module_version": "1.2.0",
            "_view_count": null,
            "flex_flow": null,
            "width": null,
            "min_width": null,
            "border": null,
            "align_items": null,
            "bottom": null,
            "_model_module": "@jupyter-widgets/base",
            "top": null,
            "grid_column": null,
            "overflow_y": null,
            "overflow_x": null,
            "grid_auto_flow": null,
            "grid_area": null,
            "grid_template_columns": null,
            "flex": null,
            "_model_name": "LayoutModel",
            "justify_items": null,
            "grid_row": null,
            "max_height": null,
            "align_content": null,
            "visibility": null,
            "align_self": null,
            "height": null,
            "min_height": null,
            "padding": null,
            "grid_auto_rows": null,
            "grid_gap": null,
            "max_width": null,
            "order": null,
            "_view_module_version": "1.2.0",
            "grid_template_areas": null,
            "object_position": null,
            "object_fit": null,
            "grid_auto_columns": null,
            "margin": null,
            "display": null,
            "left": null
          }
        },
        "3a0ea52083954c31b91f8af898f6f039": {
          "model_module": "@jupyter-widgets/controls",
          "model_name": "DescriptionStyleModel",
          "model_module_version": "1.5.0",
          "state": {
            "_view_name": "StyleView",
            "_model_name": "DescriptionStyleModel",
            "description_width": "",
            "_view_module": "@jupyter-widgets/base",
            "_model_module_version": "1.5.0",
            "_view_count": null,
            "_view_module_version": "1.2.0",
            "_model_module": "@jupyter-widgets/controls"
          }
        },
        "958f7f6f75d945ef873090b70a1c34b3": {
          "model_module": "@jupyter-widgets/base",
          "model_name": "LayoutModel",
          "model_module_version": "1.2.0",
          "state": {
            "_view_name": "LayoutView",
            "grid_template_rows": null,
            "right": null,
            "justify_content": null,
            "_view_module": "@jupyter-widgets/base",
            "overflow": null,
            "_model_module_version": "1.2.0",
            "_view_count": null,
            "flex_flow": null,
            "width": null,
            "min_width": null,
            "border": null,
            "align_items": null,
            "bottom": null,
            "_model_module": "@jupyter-widgets/base",
            "top": null,
            "grid_column": null,
            "overflow_y": null,
            "overflow_x": null,
            "grid_auto_flow": null,
            "grid_area": null,
            "grid_template_columns": null,
            "flex": null,
            "_model_name": "LayoutModel",
            "justify_items": null,
            "grid_row": null,
            "max_height": null,
            "align_content": null,
            "visibility": null,
            "align_self": null,
            "height": null,
            "min_height": null,
            "padding": null,
            "grid_auto_rows": null,
            "grid_gap": null,
            "max_width": null,
            "order": null,
            "_view_module_version": "1.2.0",
            "grid_template_areas": null,
            "object_position": null,
            "object_fit": null,
            "grid_auto_columns": null,
            "margin": null,
            "display": null,
            "left": null
          }
        },
        "bf9d97686aa84659adcba887790a101e": {
          "model_module": "@jupyter-widgets/controls",
          "model_name": "HBoxModel",
          "model_module_version": "1.5.0",
          "state": {
            "_view_name": "HBoxView",
            "_dom_classes": [],
            "_model_name": "HBoxModel",
            "_view_module": "@jupyter-widgets/controls",
            "_model_module_version": "1.5.0",
            "_view_count": null,
            "_view_module_version": "1.5.0",
            "box_style": "",
            "layout": "IPY_MODEL_f4475ea0821547328aab77b187b69791",
            "_model_module": "@jupyter-widgets/controls",
            "children": [
              "IPY_MODEL_c4559a3b383b49278e05f50b7bae13ae",
              "IPY_MODEL_35f877133c3641469bbfda9c6a106c5f",
              "IPY_MODEL_6eb064e4c0b649d0981ef84125337668"
            ]
          }
        },
        "f4475ea0821547328aab77b187b69791": {
          "model_module": "@jupyter-widgets/base",
          "model_name": "LayoutModel",
          "model_module_version": "1.2.0",
          "state": {
            "_view_name": "LayoutView",
            "grid_template_rows": null,
            "right": null,
            "justify_content": null,
            "_view_module": "@jupyter-widgets/base",
            "overflow": null,
            "_model_module_version": "1.2.0",
            "_view_count": null,
            "flex_flow": null,
            "width": null,
            "min_width": null,
            "border": null,
            "align_items": null,
            "bottom": null,
            "_model_module": "@jupyter-widgets/base",
            "top": null,
            "grid_column": null,
            "overflow_y": null,
            "overflow_x": null,
            "grid_auto_flow": null,
            "grid_area": null,
            "grid_template_columns": null,
            "flex": null,
            "_model_name": "LayoutModel",
            "justify_items": null,
            "grid_row": null,
            "max_height": null,
            "align_content": null,
            "visibility": null,
            "align_self": null,
            "height": null,
            "min_height": null,
            "padding": null,
            "grid_auto_rows": null,
            "grid_gap": null,
            "max_width": null,
            "order": null,
            "_view_module_version": "1.2.0",
            "grid_template_areas": null,
            "object_position": null,
            "object_fit": null,
            "grid_auto_columns": null,
            "margin": null,
            "display": null,
            "left": null
          }
        },
        "c4559a3b383b49278e05f50b7bae13ae": {
          "model_module": "@jupyter-widgets/controls",
          "model_name": "HTMLModel",
          "model_module_version": "1.5.0",
          "state": {
            "_view_name": "HTMLView",
            "style": "IPY_MODEL_86ccbadb5fbd4b87be15170244003096",
            "_dom_classes": [],
            "description": "",
            "_model_name": "HTMLModel",
            "placeholder": "​",
            "_view_module": "@jupyter-widgets/controls",
            "_model_module_version": "1.5.0",
            "value": "Create embeddings: 100%",
            "_view_count": null,
            "_view_module_version": "1.5.0",
            "description_tooltip": null,
            "_model_module": "@jupyter-widgets/controls",
            "layout": "IPY_MODEL_4d68738f85654caeb7f8d723f0d00e93"
          }
        },
        "35f877133c3641469bbfda9c6a106c5f": {
          "model_module": "@jupyter-widgets/controls",
          "model_name": "FloatProgressModel",
          "model_module_version": "1.5.0",
          "state": {
            "_view_name": "ProgressView",
            "style": "IPY_MODEL_d1c7056758a14c19a70dd3ca466c55c4",
            "_dom_classes": [],
            "description": "",
            "_model_name": "FloatProgressModel",
            "bar_style": "",
            "max": 6352,
            "_view_module": "@jupyter-widgets/controls",
            "_model_module_version": "1.5.0",
            "value": 6352,
            "_view_count": null,
            "_view_module_version": "1.5.0",
            "orientation": "horizontal",
            "min": 0,
            "description_tooltip": null,
            "_model_module": "@jupyter-widgets/controls",
            "layout": "IPY_MODEL_24c10a702fe34106a2f4b2bf9c49ce54"
          }
        },
        "6eb064e4c0b649d0981ef84125337668": {
          "model_module": "@jupyter-widgets/controls",
          "model_name": "HTMLModel",
          "model_module_version": "1.5.0",
          "state": {
            "_view_name": "HTMLView",
            "style": "IPY_MODEL_88faedd1b2a9475d8e409cea92e6f2b5",
            "_dom_classes": [],
            "description": "",
            "_model_name": "HTMLModel",
            "placeholder": "​",
            "_view_module": "@jupyter-widgets/controls",
            "_model_module_version": "1.5.0",
            "value": " 6352/6352 [03:07&lt;00:00, 41.36 Docs/s]",
            "_view_count": null,
            "_view_module_version": "1.5.0",
            "description_tooltip": null,
            "_model_module": "@jupyter-widgets/controls",
            "layout": "IPY_MODEL_b6f30151dd994b2791642cb53f6e23df"
          }
        },
        "86ccbadb5fbd4b87be15170244003096": {
          "model_module": "@jupyter-widgets/controls",
          "model_name": "DescriptionStyleModel",
          "model_module_version": "1.5.0",
          "state": {
            "_view_name": "StyleView",
            "_model_name": "DescriptionStyleModel",
            "description_width": "",
            "_view_module": "@jupyter-widgets/base",
            "_model_module_version": "1.5.0",
            "_view_count": null,
            "_view_module_version": "1.2.0",
            "_model_module": "@jupyter-widgets/controls"
          }
        },
        "4d68738f85654caeb7f8d723f0d00e93": {
          "model_module": "@jupyter-widgets/base",
          "model_name": "LayoutModel",
          "model_module_version": "1.2.0",
          "state": {
            "_view_name": "LayoutView",
            "grid_template_rows": null,
            "right": null,
            "justify_content": null,
            "_view_module": "@jupyter-widgets/base",
            "overflow": null,
            "_model_module_version": "1.2.0",
            "_view_count": null,
            "flex_flow": null,
            "width": null,
            "min_width": null,
            "border": null,
            "align_items": null,
            "bottom": null,
            "_model_module": "@jupyter-widgets/base",
            "top": null,
            "grid_column": null,
            "overflow_y": null,
            "overflow_x": null,
            "grid_auto_flow": null,
            "grid_area": null,
            "grid_template_columns": null,
            "flex": null,
            "_model_name": "LayoutModel",
            "justify_items": null,
            "grid_row": null,
            "max_height": null,
            "align_content": null,
            "visibility": null,
            "align_self": null,
            "height": null,
            "min_height": null,
            "padding": null,
            "grid_auto_rows": null,
            "grid_gap": null,
            "max_width": null,
            "order": null,
            "_view_module_version": "1.2.0",
            "grid_template_areas": null,
            "object_position": null,
            "object_fit": null,
            "grid_auto_columns": null,
            "margin": null,
            "display": null,
            "left": null
          }
        },
        "d1c7056758a14c19a70dd3ca466c55c4": {
          "model_module": "@jupyter-widgets/controls",
          "model_name": "ProgressStyleModel",
          "model_module_version": "1.5.0",
          "state": {
            "_view_name": "StyleView",
            "_model_name": "ProgressStyleModel",
            "description_width": "",
            "_view_module": "@jupyter-widgets/base",
            "_model_module_version": "1.5.0",
            "_view_count": null,
            "_view_module_version": "1.2.0",
            "bar_color": null,
            "_model_module": "@jupyter-widgets/controls"
          }
        },
        "24c10a702fe34106a2f4b2bf9c49ce54": {
          "model_module": "@jupyter-widgets/base",
          "model_name": "LayoutModel",
          "model_module_version": "1.2.0",
          "state": {
            "_view_name": "LayoutView",
            "grid_template_rows": null,
            "right": null,
            "justify_content": null,
            "_view_module": "@jupyter-widgets/base",
            "overflow": null,
            "_model_module_version": "1.2.0",
            "_view_count": null,
            "flex_flow": null,
            "width": null,
            "min_width": null,
            "border": null,
            "align_items": null,
            "bottom": null,
            "_model_module": "@jupyter-widgets/base",
            "top": null,
            "grid_column": null,
            "overflow_y": null,
            "overflow_x": null,
            "grid_auto_flow": null,
            "grid_area": null,
            "grid_template_columns": null,
            "flex": null,
            "_model_name": "LayoutModel",
            "justify_items": null,
            "grid_row": null,
            "max_height": null,
            "align_content": null,
            "visibility": null,
            "align_self": null,
            "height": null,
            "min_height": null,
            "padding": null,
            "grid_auto_rows": null,
            "grid_gap": null,
            "max_width": null,
            "order": null,
            "_view_module_version": "1.2.0",
            "grid_template_areas": null,
            "object_position": null,
            "object_fit": null,
            "grid_auto_columns": null,
            "margin": null,
            "display": null,
            "left": null
          }
        },
        "88faedd1b2a9475d8e409cea92e6f2b5": {
          "model_module": "@jupyter-widgets/controls",
          "model_name": "DescriptionStyleModel",
          "model_module_version": "1.5.0",
          "state": {
            "_view_name": "StyleView",
            "_model_name": "DescriptionStyleModel",
            "description_width": "",
            "_view_module": "@jupyter-widgets/base",
            "_model_module_version": "1.5.0",
            "_view_count": null,
            "_view_module_version": "1.2.0",
            "_model_module": "@jupyter-widgets/controls"
          }
        },
        "b6f30151dd994b2791642cb53f6e23df": {
          "model_module": "@jupyter-widgets/base",
          "model_name": "LayoutModel",
          "model_module_version": "1.2.0",
          "state": {
            "_view_name": "LayoutView",
            "grid_template_rows": null,
            "right": null,
            "justify_content": null,
            "_view_module": "@jupyter-widgets/base",
            "overflow": null,
            "_model_module_version": "1.2.0",
            "_view_count": null,
            "flex_flow": null,
            "width": null,
            "min_width": null,
            "border": null,
            "align_items": null,
            "bottom": null,
            "_model_module": "@jupyter-widgets/base",
            "top": null,
            "grid_column": null,
            "overflow_y": null,
            "overflow_x": null,
            "grid_auto_flow": null,
            "grid_area": null,
            "grid_template_columns": null,
            "flex": null,
            "_model_name": "LayoutModel",
            "justify_items": null,
            "grid_row": null,
            "max_height": null,
            "align_content": null,
            "visibility": null,
            "align_self": null,
            "height": null,
            "min_height": null,
            "padding": null,
            "grid_auto_rows": null,
            "grid_gap": null,
            "max_width": null,
            "order": null,
            "_view_module_version": "1.2.0",
            "grid_template_areas": null,
            "object_position": null,
            "object_fit": null,
            "grid_auto_columns": null,
            "margin": null,
            "display": null,
            "left": null
          }
        }
      }
    },
    "accelerator": "GPU"
  },
  "cells": [
    {
      "cell_type": "code",
      "metadata": {
        "id": "Y0R8IwSCWYVk"
      },
      "source": [
        "!pip install -q -U transformers[sentencepiece] rouge git+https://github.com/deepset-ai/haystack.git grpcio-tools==1.34.1 spacy"
      ],
      "execution_count": 5,
      "outputs": []
    },
    {
      "cell_type": "code",
      "metadata": {
        "id": "1EHR4i9FiCAa"
      },
      "source": [
        "import re\n",
        "import spacy\n",
        "import nltk\n",
        "import json\n",
        "import pandas as pd \n",
        "from tqdm import tqdm\n",
        "from rouge import Rouge\n",
        "from pprint import pprint\n",
        "from typing import List\n",
        "from haystack import Document\n",
        "from haystack.reader import TransformersReader\n",
        "from haystack.pipeline import ExtractiveQAPipeline \n",
        "from haystack.retriever.dense import DensePassageRetriever \n",
        "from haystack.document_store.faiss import FAISSDocumentStore\n",
        "from nltk.translate.bleu_score import sentence_bleu, SmoothingFunction"
      ],
      "execution_count": 6,
      "outputs": []
    },
    {
      "cell_type": "code",
      "metadata": {
        "colab": {
          "base_uri": "https://localhost:8080/"
        },
        "id": "gyHgtCYAXEZb",
        "outputId": "b8e96218-5285-4361-cdb9-042628b23e1a"
      },
      "source": [
        "!spacy download en_core_web_md \n",
        "!spacy link en_core_web_md en"
      ],
      "execution_count": 7,
      "outputs": [
        {
          "output_type": "stream",
          "name": "stdout",
          "text": [
            "Collecting en-core-web-md==3.1.0\n",
            "  Downloading https://github.com/explosion/spacy-models/releases/download/en_core_web_md-3.1.0/en_core_web_md-3.1.0-py3-none-any.whl (45.4 MB)\n",
            "\u001b[K     |████████████████████████████████| 45.4 MB 18 kB/s \n",
            "\u001b[?25hRequirement already satisfied: spacy<3.2.0,>=3.1.0 in /usr/local/lib/python3.7/dist-packages (from en-core-web-md==3.1.0) (3.1.3)\n",
            "Requirement already satisfied: spacy-legacy<3.1.0,>=3.0.8 in /usr/local/lib/python3.7/dist-packages (from spacy<3.2.0,>=3.1.0->en-core-web-md==3.1.0) (3.0.8)\n",
            "Requirement already satisfied: pathy>=0.3.5 in /usr/local/lib/python3.7/dist-packages (from spacy<3.2.0,>=3.1.0->en-core-web-md==3.1.0) (0.6.0)\n",
            "Requirement already satisfied: numpy>=1.15.0 in /usr/local/lib/python3.7/dist-packages (from spacy<3.2.0,>=3.1.0->en-core-web-md==3.1.0) (1.19.5)\n",
            "Requirement already satisfied: cymem<2.1.0,>=2.0.2 in /usr/local/lib/python3.7/dist-packages (from spacy<3.2.0,>=3.1.0->en-core-web-md==3.1.0) (2.0.5)\n",
            "Requirement already satisfied: setuptools in /usr/local/lib/python3.7/dist-packages (from spacy<3.2.0,>=3.1.0->en-core-web-md==3.1.0) (57.4.0)\n",
            "Requirement already satisfied: tqdm<5.0.0,>=4.38.0 in /usr/local/lib/python3.7/dist-packages (from spacy<3.2.0,>=3.1.0->en-core-web-md==3.1.0) (4.62.3)\n",
            "Requirement already satisfied: jinja2 in /usr/local/lib/python3.7/dist-packages (from spacy<3.2.0,>=3.1.0->en-core-web-md==3.1.0) (2.11.3)\n",
            "Requirement already satisfied: requests<3.0.0,>=2.13.0 in /usr/local/lib/python3.7/dist-packages (from spacy<3.2.0,>=3.1.0->en-core-web-md==3.1.0) (2.23.0)\n",
            "Requirement already satisfied: catalogue<2.1.0,>=2.0.6 in /usr/local/lib/python3.7/dist-packages (from spacy<3.2.0,>=3.1.0->en-core-web-md==3.1.0) (2.0.6)\n",
            "Requirement already satisfied: pydantic!=1.8,!=1.8.1,<1.9.0,>=1.7.4 in /usr/local/lib/python3.7/dist-packages (from spacy<3.2.0,>=3.1.0->en-core-web-md==3.1.0) (1.8.2)\n",
            "Requirement already satisfied: murmurhash<1.1.0,>=0.28.0 in /usr/local/lib/python3.7/dist-packages (from spacy<3.2.0,>=3.1.0->en-core-web-md==3.1.0) (1.0.5)\n",
            "Requirement already satisfied: typing-extensions<4.0.0.0,>=3.7.4 in /usr/local/lib/python3.7/dist-packages (from spacy<3.2.0,>=3.1.0->en-core-web-md==3.1.0) (3.7.4.3)\n",
            "Requirement already satisfied: wasabi<1.1.0,>=0.8.1 in /usr/local/lib/python3.7/dist-packages (from spacy<3.2.0,>=3.1.0->en-core-web-md==3.1.0) (0.8.2)\n",
            "Requirement already satisfied: blis<0.8.0,>=0.4.0 in /usr/local/lib/python3.7/dist-packages (from spacy<3.2.0,>=3.1.0->en-core-web-md==3.1.0) (0.4.1)\n",
            "Requirement already satisfied: srsly<3.0.0,>=2.4.1 in /usr/local/lib/python3.7/dist-packages (from spacy<3.2.0,>=3.1.0->en-core-web-md==3.1.0) (2.4.1)\n",
            "Requirement already satisfied: packaging>=20.0 in /usr/local/lib/python3.7/dist-packages (from spacy<3.2.0,>=3.1.0->en-core-web-md==3.1.0) (21.0)\n",
            "Requirement already satisfied: typer<0.5.0,>=0.3.0 in /usr/local/lib/python3.7/dist-packages (from spacy<3.2.0,>=3.1.0->en-core-web-md==3.1.0) (0.4.0)\n",
            "Requirement already satisfied: preshed<3.1.0,>=3.0.2 in /usr/local/lib/python3.7/dist-packages (from spacy<3.2.0,>=3.1.0->en-core-web-md==3.1.0) (3.0.5)\n",
            "Requirement already satisfied: thinc<8.1.0,>=8.0.9 in /usr/local/lib/python3.7/dist-packages (from spacy<3.2.0,>=3.1.0->en-core-web-md==3.1.0) (8.0.10)\n",
            "Requirement already satisfied: zipp>=0.5 in /usr/local/lib/python3.7/dist-packages (from catalogue<2.1.0,>=2.0.6->spacy<3.2.0,>=3.1.0->en-core-web-md==3.1.0) (3.5.0)\n",
            "Requirement already satisfied: pyparsing>=2.0.2 in /usr/local/lib/python3.7/dist-packages (from packaging>=20.0->spacy<3.2.0,>=3.1.0->en-core-web-md==3.1.0) (2.4.7)\n",
            "Requirement already satisfied: smart-open<6.0.0,>=5.0.0 in /usr/local/lib/python3.7/dist-packages (from pathy>=0.3.5->spacy<3.2.0,>=3.1.0->en-core-web-md==3.1.0) (5.2.1)\n",
            "Requirement already satisfied: chardet<4,>=3.0.2 in /usr/local/lib/python3.7/dist-packages (from requests<3.0.0,>=2.13.0->spacy<3.2.0,>=3.1.0->en-core-web-md==3.1.0) (3.0.4)\n",
            "Requirement already satisfied: certifi>=2017.4.17 in /usr/local/lib/python3.7/dist-packages (from requests<3.0.0,>=2.13.0->spacy<3.2.0,>=3.1.0->en-core-web-md==3.1.0) (2021.5.30)\n",
            "Requirement already satisfied: urllib3!=1.25.0,!=1.25.1,<1.26,>=1.21.1 in /usr/local/lib/python3.7/dist-packages (from requests<3.0.0,>=2.13.0->spacy<3.2.0,>=3.1.0->en-core-web-md==3.1.0) (1.24.3)\n",
            "Requirement already satisfied: idna<3,>=2.5 in /usr/local/lib/python3.7/dist-packages (from requests<3.0.0,>=2.13.0->spacy<3.2.0,>=3.1.0->en-core-web-md==3.1.0) (2.10)\n",
            "Requirement already satisfied: click<9.0.0,>=7.1.1 in /usr/local/lib/python3.7/dist-packages (from typer<0.5.0,>=0.3.0->spacy<3.2.0,>=3.1.0->en-core-web-md==3.1.0) (7.1.2)\n",
            "Requirement already satisfied: MarkupSafe>=0.23 in /usr/local/lib/python3.7/dist-packages (from jinja2->spacy<3.2.0,>=3.1.0->en-core-web-md==3.1.0) (2.0.1)\n",
            "Installing collected packages: en-core-web-md\n",
            "Successfully installed en-core-web-md-3.1.0\n",
            "\u001b[38;5;2m✔ Download and installation successful\u001b[0m\n",
            "You can now load the package via spacy.load('en_core_web_md')\n",
            "\u001b[31mDeprecationWarning: The command link is deprecated.\u001b[0m\n",
            "\u001b[38;5;3m⚠ As of spaCy v3.0, model symlinks are not supported anymore. You can\n",
            "load trained pipeline packages using their full names or from a directory\n",
            "path.\u001b[0m\n"
          ]
        }
      ]
    },
    {
      "cell_type": "code",
      "metadata": {
        "colab": {
          "base_uri": "https://localhost:8080/"
        },
        "id": "K7ipay4bguxX",
        "outputId": "70d254ea-a56e-4feb-db87-4d791d83317c"
      },
      "source": [
        "nltk.download('punkt')"
      ],
      "execution_count": 8,
      "outputs": [
        {
          "output_type": "stream",
          "name": "stdout",
          "text": [
            "[nltk_data] Downloading package punkt to /root/nltk_data...\n",
            "[nltk_data]   Unzipping tokenizers/punkt.zip.\n"
          ]
        },
        {
          "output_type": "execute_result",
          "data": {
            "text/plain": [
              "True"
            ]
          },
          "metadata": {},
          "execution_count": 8
        }
      ]
    },
    {
      "cell_type": "code",
      "metadata": {
        "colab": {
          "base_uri": "https://localhost:8080/"
        },
        "id": "fhLYC0ivc0A_",
        "outputId": "09b26646-f57c-4757-e21b-f811937b990b"
      },
      "source": [
        "from spacy.lang.en import English\n",
        "# nlp = spacy.load('en_core_web_md')\n",
        "nlp = English() \n",
        "nlp.add_pipe(\"sentencizer\")"
      ],
      "execution_count": 9,
      "outputs": [
        {
          "output_type": "execute_result",
          "data": {
            "text/plain": [
              "<spacy.pipeline.sentencizer.Sentencizer at 0x7fb859acc730>"
            ]
          },
          "metadata": {},
          "execution_count": 9
        }
      ]
    },
    {
      "cell_type": "code",
      "metadata": {
        "colab": {
          "base_uri": "https://localhost:8080/"
        },
        "id": "ZkXrmWA1ViH-",
        "outputId": "ea30562f-2dc6-4a3f-8c98-7322dd8ec132"
      },
      "source": [
        "from google.colab import drive\n",
        "drive.mount('/content/drive')"
      ],
      "execution_count": 10,
      "outputs": [
        {
          "output_type": "stream",
          "name": "stdout",
          "text": [
            "Mounted at /content/drive\n"
          ]
        }
      ]
    },
    {
      "cell_type": "code",
      "metadata": {
        "id": "wm2nS_mOFwFJ"
      },
      "source": [
        "# !unzip \"drive/MyDrive/titleText Datasets.zip\" -d drive/MyDrive/"
      ],
      "execution_count": 3,
      "outputs": []
    },
    {
      "cell_type": "code",
      "metadata": {
        "id": "S8XOUzQpwLw9"
      },
      "source": [
        "with open('drive/MyDrive/qa-SQUAD.json', \"r\") as f:\n",
        "    qa = json.loads(f.read())['data']\n",
        "\n",
        "# df = pd.read_csv('drive/MyDrive/titleText-paragraphs.csv', index_col=0)\n",
        "df = pd.read_csv('drive/MyDrive/titleText-threeSentences.csv', index_col=0)\n",
        "\n",
        "# df = df.replace(r'\\n',' ', regex=True) \n",
        "df = df.reset_index()"
      ],
      "execution_count": 11,
      "outputs": []
    },
    {
      "cell_type": "code",
      "metadata": {
        "colab": {
          "base_uri": "https://localhost:8080/",
          "height": 53
        },
        "id": "K9H1xJGkd059",
        "outputId": "2a8d4946-8b0b-452d-880e-409311804059"
      },
      "source": [
        "df.iloc[0]['text']"
      ],
      "execution_count": 12,
      "outputs": [
        {
          "output_type": "execute_result",
          "data": {
            "application/vnd.google.colaboratory.intrinsic+json": {
              "type": "string"
            },
            "text/plain": [
              "'Tioconazole is an antifungal medication that fights infections caused by fungus. 1-Day (for use in the vagina) is used to treat vaginal Candida (yeast) infections. 1-Day may also be used for other purposes not listed in this medication guide.'"
            ]
          },
          "metadata": {},
          "execution_count": 12
        }
      ]
    },
    {
      "cell_type": "code",
      "metadata": {
        "id": "fbsJedAQ1mBF"
      },
      "source": [
        "titles = list(df[\"title\"].values)\n",
        "texts  = list(df[\"text\"].values)\n",
        "documents: List[Document] = []\n",
        " \n",
        "for title, text in zip(titles, texts):\n",
        "    documents.append(\n",
        "        Document(\n",
        "            text=text,\n",
        "            meta={\n",
        "                \"name\": title or \"\"\n",
        "            }\n",
        "        )\n",
        "    )"
      ],
      "execution_count": 13,
      "outputs": []
    },
    {
      "cell_type": "code",
      "metadata": {
        "colab": {
          "base_uri": "https://localhost:8080/",
          "height": 69,
          "referenced_widgets": [
            "5a3bf17de5044a8285dd8a1170d5ff95",
            "55344a289a5a454cb12da86fdbc4b6c3",
            "ef738441efbd4b60b539195568ea84d4",
            "7d34cef206674b3997d6803f9ac2fb47",
            "e5edf759b57441eb9bff2dd7ffa50b9e",
            "8687b641cb924c0093c7bc3a6ab304e0",
            "7719697d68624cecacc0a5b3204f1712",
            "74d291e803fd483787af782337bed11f",
            "591eee4445b14577ac5d197b06aa3e64",
            "3a0ea52083954c31b91f8af898f6f039",
            "958f7f6f75d945ef873090b70a1c34b3",
            "bf9d97686aa84659adcba887790a101e",
            "f4475ea0821547328aab77b187b69791",
            "c4559a3b383b49278e05f50b7bae13ae",
            "35f877133c3641469bbfda9c6a106c5f",
            "6eb064e4c0b649d0981ef84125337668",
            "86ccbadb5fbd4b87be15170244003096",
            "4d68738f85654caeb7f8d723f0d00e93",
            "d1c7056758a14c19a70dd3ca466c55c4",
            "24c10a702fe34106a2f4b2bf9c49ce54",
            "88faedd1b2a9475d8e409cea92e6f2b5",
            "b6f30151dd994b2791642cb53f6e23df"
          ]
        },
        "id": "pDemzc4-kPww",
        "outputId": "f4a78fb5-1ec7-401c-cb77-437c19850aec"
      },
      "source": [
        "document_store = FAISSDocumentStore(\n",
        "    similarity=\"dot_product\",\n",
        "    faiss_index_factory_str=\"Flat\",\n",
        "    return_embedding=True\n",
        ")\n",
        "\n",
        "retriever = DensePassageRetriever(\n",
        "    document_store=document_store,\n",
        "    query_embedding_model=\"facebook/dpr-question_encoder-single-nq-base\",\n",
        "    passage_embedding_model=\"facebook/dpr-ctx_encoder-single-nq-base\",\n",
        "    use_gpu=True,\n",
        "    embed_title=True,\n",
        ")\n",
        "\n",
        "# retriever = DensePassageRetriever(\n",
        "#     document_store=document_store,\n",
        "#     query_embedding_model=\"drive/MyDrive/bert-large-finetuned\",\n",
        "#     passage_embedding_model=\"drive/MyDrive/bert-large-finetuned\",\n",
        "#     use_gpu=True,\n",
        "#     embed_title=True,\n",
        "# )\n",
        "\n",
        "document_store.delete_documents()\n",
        "document_store.write_documents(documents)\n",
        "document_store.update_embeddings(\n",
        "    retriever=retriever\n",
        ")"
      ],
      "execution_count": 24,
      "outputs": [
        {
          "output_type": "stream",
          "name": "stderr",
          "text": [
            "\rUpdating Embedding:   0%|          | 0/16341 [00:00<?, ? docs/s]"
          ]
        },
        {
          "output_type": "display_data",
          "data": {
            "application/vnd.jupyter.widget-view+json": {
              "model_id": "5a3bf17de5044a8285dd8a1170d5ff95",
              "version_minor": 0,
              "version_major": 2
            },
            "text/plain": [
              "Create embeddings:   0%|          | 0/10000 [00:00<?, ? Docs/s]"
            ]
          },
          "metadata": {}
        },
        {
          "output_type": "stream",
          "name": "stderr",
          "text": [
            "Documents Processed:  61%|██████    | 10000/16341 [05:05<03:14, 32.68 docs/s]"
          ]
        },
        {
          "output_type": "display_data",
          "data": {
            "application/vnd.jupyter.widget-view+json": {
              "model_id": "bf9d97686aa84659adcba887790a101e",
              "version_minor": 0,
              "version_major": 2
            },
            "text/plain": [
              "Create embeddings:   0%|          | 0/6352 [00:00<?, ? Docs/s]"
            ]
          },
          "metadata": {}
        },
        {
          "output_type": "stream",
          "name": "stderr",
          "text": [
            "Documents Processed: 20000 docs [08:19, 40.01 docs/s]\n"
          ]
        }
      ]
    },
    {
      "cell_type": "code",
      "metadata": {
        "id": "TifruTY50Lsn"
      },
      "source": [
        "# reader = TransformersReader(model_name_or_path=\"ahotrod/albert_xxlargev1_squad2_512\", use_gpu=0)\n",
        "# reader = TransformersReader(model_name_or_path=\"bert-large-uncased-whole-word-masking-finetuned-squad\", use_gpu=0)\n",
        "\n",
        "reader = TransformersReader(model_name_or_path=\"ktrapeznikov/albert-xlarge-v2-squad-v2\", \n",
        "                            context_window_size=175,\n",
        "                            max_seq_len=256,\n",
        "                            doc_stride=128,\n",
        "                            use_gpu=0)\n",
        "\n",
        "# reader = TransformersReader(model_name_or_path=\"drive/MyDrive/bert_basefi_qafi\", \n",
        "#                             context_window_size=70,\n",
        "#                             max_seq_len=256,\n",
        "#                             doc_stride=128,\n",
        "#                             use_gpu=0)\n",
        "\n",
        "pipe = ExtractiveQAPipeline(reader, retriever)"
      ],
      "execution_count": 25,
      "outputs": []
    },
    {
      "cell_type": "markdown",
      "metadata": {
        "id": "aPhP2TZdA_5l"
      },
      "source": [
        "# Answers Bleu and Rouge"
      ]
    },
    {
      "cell_type": "code",
      "metadata": {
        "id": "nuH1yj2f5rer",
        "colab": {
          "base_uri": "https://localhost:8080/"
        },
        "outputId": "59313029-3301-4c69-88ad-010dfa108299"
      },
      "source": [
        "bleu_scores = []\n",
        "rouge1_scores = []\n",
        "rouge2_scores = []\n",
        "rougel_scores = []\n",
        "context_detection = []\n",
        "context_accuracy = []\n",
        "\n",
        "\n",
        "rouge = Rouge()\n",
        "smoothie = SmoothingFunction().method4\n",
        "\n",
        "for data in tqdm(qa):\n",
        "    true_context = data['paragraphs'][0]['context']\n",
        "    # true_context = true_context.replace('\\n', ' ')\n",
        "\n",
        "    for q_a in data['paragraphs'][0]['qas']:\n",
        "        question = q_a['question']\n",
        "        reference = \" \".join([answer['text'] for answer in q_a['answers']])\n",
        "        reference_sents = nlp(reference)\n",
        "        reference_sents = list(reference_sents.sents)\n",
        "        reference_sents = [sent.text.lstrip().rstrip() for sent in reference_sents]\n",
        "\n",
        "        preds = pipe.run(\n",
        "            query=question,\n",
        "            params={\"Retriever\": {\"top_k\": 5}, \"Reader\": {\"top_k\": 3}}\n",
        "            )\n",
        "\n",
        "        candidate_sent_list = []\n",
        "\n",
        "        for pred in preds['answers']:\n",
        "            pred_answer = pred['answer']\n",
        "\n",
        "            if pred_answer is not None:\n",
        "                offset_start = pred['offset_start']\n",
        "                offset_end = pred['offset_end']\n",
        "                meta_name = pred['meta']['vector_id']\n",
        "\n",
        "                pred_all_context_sents= []\n",
        "\n",
        "                for pred in preds['documents']:\n",
        "                    pred_all_context_sents += list(nlp(pred.to_dict()['text']).sents)\n",
        "\n",
        "                    if pred.to_dict()['meta']['vector_id'] == meta_name:\n",
        "                        pred_context = pred.to_dict()['text']\n",
        "                        pred_context_sents = nlp(pred_context)\n",
        "                        pred_context_sents = list(pred_context_sents.sents)\n",
        "                        pred_context_sents = [sent.text for sent in pred_context_sents]\n",
        "                        # pred_context = \" \".join(pred_context_sents)\n",
        "\n",
        "                pred_all_context_sents = [re.sub(r'\\n+', ' ', sent.text).strip() for sent in pred_all_context_sents]\n",
        "\n",
        "                doc = nlp(pred_answer)\n",
        "                pred_answer_sents = list(doc.sents)\n",
        "                pred_answer_sents = [sent.text for sent in pred_answer_sents] \n",
        "\n",
        "\n",
        "                for i, pred_context_sent in enumerate(pred_context_sents):\n",
        "                    start_index = 0\n",
        "                    end_index = len(pred_answer) \n",
        "\n",
        "                    for pred_answer_sent in pred_answer_sents:\n",
        "                        right_reduction = len(pred_answer_sent) - len(pred_answer_sent.rstrip())\n",
        "                        left_reduction = len(pred_answer_sent) - len(pred_answer_sent.lstrip())\n",
        "                        end_index -= len(pred_answer_sent) + 0 if pred_context_sents[-1] == pred_answer_sent else 1\n",
        "\n",
        "                        context_offset_start = pred_context.find(pred_context_sent)\n",
        "                        context_offset_end = pred_context.find(pred_context_sent) + len(pred_context_sent)\n",
        "\n",
        "                        if  context_offset_start - left_reduction <= offset_start + start_index and context_offset_end + right_reduction >= offset_end - end_index:\n",
        "                            candidate_sent_list.append(pred_context_sent)\n",
        "                        \n",
        "                        start_index += len(pred_answer_sent) + 0 if pred_context_sents[-1] == pred_answer_sent else 1\n",
        "\n",
        "                for reference_sent in reference_sents:\n",
        "                    context_truth = 0\n",
        "\n",
        "                    if reference_sent in pred_all_context_sents:\n",
        "                        context_truth = 1\n",
        "        \n",
        "                    context_accuracy.append(context_truth)\n",
        "\n",
        "        candidate_sent_set = set(candidate_sent_list)\n",
        "        candidate = \" \".join(candidate_sent_set)\n",
        "        token_reference = nltk.word_tokenize(reference)\n",
        "        token_candidate = nltk.word_tokenize(candidate)\n",
        "\n",
        "        bleu_score = sentence_bleu(token_reference, \n",
        "                                    token_candidate, \n",
        "                                    smoothing_function=smoothie, \n",
        "                                    weights=(1, 0, 0, 0))\n",
        "        rouge_score = rouge.get_scores(candidate, reference)\n",
        "\n",
        "        bleu_scores.append(bleu_score)\n",
        "        rouge1_scores.append(rouge_score[0]['rouge-1']['f'])\n",
        "        rouge2_scores.append(rouge_score[0]['rouge-2']['f'])\n",
        "        rougel_scores.append(rouge_score[0]['rouge-l']['f'])"
      ],
      "execution_count": 16,
      "outputs": [
        {
          "output_type": "stream",
          "name": "stderr",
          "text": [
            "100%|██████████| 4/4 [00:32<00:00,  8.02s/it]\n"
          ]
        }
      ]
    },
    {
      "cell_type": "code",
      "metadata": {
        "colab": {
          "base_uri": "https://localhost:8080/"
        },
        "id": "HVzaTRL2wx6X",
        "outputId": "7e6b0087-a5d1-47b2-cfbb-f30d5d9a7a6b"
      },
      "source": [
        "context_accuracy.count(1)/len(context_accuracy)"
      ],
      "execution_count": 17,
      "outputs": [
        {
          "output_type": "execute_result",
          "data": {
            "text/plain": [
              "0.16326530612244897"
            ]
          },
          "metadata": {},
          "execution_count": 17
        }
      ]
    },
    {
      "cell_type": "code",
      "metadata": {
        "id": "TJoBQVepyXVo",
        "colab": {
          "base_uri": "https://localhost:8080/"
        },
        "outputId": "b0fe39a5-4aa0-4548-e8bc-b89b6b4febeb"
      },
      "source": [
        "print(\"bleu -->\", sum(bleu_scores)/len(bleu_scores))\n",
        "print(\"rouge1 -->\", sum(rouge1_scores)/len(rouge1_scores))\n",
        "print(\"rouge2 -->\", sum(rouge2_scores)/len(rouge2_scores))\n",
        "print(\"rougel -->\", sum(rougel_scores)/len(rougel_scores))"
      ],
      "execution_count": 18,
      "outputs": [
        {
          "output_type": "stream",
          "name": "stdout",
          "text": [
            "bleu --> 0.058515905624942674\n",
            "rouge1 --> 0.2620780277795925\n",
            "rouge2 --> 0.1480834323458272\n",
            "rougel --> 0.24051164554439602\n"
          ]
        }
      ]
    },
    {
      "cell_type": "markdown",
      "metadata": {
        "id": "gOxbJHU8BsAY"
      },
      "source": [
        "# Sample\n",
        "\n",
        "#### Change data_index, question_index values to generate new samples\n"
      ]
    },
    {
      "cell_type": "code",
      "metadata": {
        "id": "NsMM-t20CsPz",
        "colab": {
          "base_uri": "https://localhost:8080/"
        },
        "outputId": "68524086-85a1-498b-eed8-01285ea57a9e"
      },
      "source": [
        "data_index = 0\n",
        "data = qa[data_index]\n",
        "true_context = data['paragraphs'][0]['context']\n",
        "# true_context = true_context.replace('\\n', ' ')\n",
        "question_index = 0\n",
        "q_a = data['paragraphs'][0]['qas'][question_index]\n",
        "question = q_a['question']\n",
        "reference = \" \".join([answer['text'] for answer in q_a['answers']])\n",
        "reference_sents = nlp(reference)\n",
        "reference_sents = list(reference_sents.sents)\n",
        "reference_sents = [sent.text.lstrip().rstrip() for sent in reference_sents]\n",
        "\n",
        "preds = pipe.run(\n",
        "    query=question,\n",
        "    params={\"Retriever\": {\"top_k\": 5}, \"Reader\": {\"top_k\": 3}}\n",
        "    )\n",
        "\n",
        "candidate_sent_list = []\n",
        "\n",
        "for pred in preds['answers']:\n",
        "    pred_answer = pred['answer']\n",
        "\n",
        "    if pred_answer is not None:\n",
        "        offset_start = pred['offset_start']\n",
        "        offset_end = pred['offset_end']\n",
        "        meta_name = pred['meta']['vector_id']\n",
        "\n",
        "        pred_all_context_sents= []\n",
        "\n",
        "        for pred in preds['documents']:\n",
        "            pred_all_context_sents += list(nlp(pred.to_dict()['text']).sents)\n",
        "\n",
        "            if pred.to_dict()['meta']['vector_id'] == meta_name:\n",
        "                pred_context = pred.to_dict()['text']\n",
        "                pred_context_sents = nlp(pred_context)\n",
        "                pred_context_sents = list(pred_context_sents.sents)\n",
        "                pred_context_sents = [sent.text for sent in pred_context_sents]\n",
        "                # pred_context = \" \".join(pred_context_sents)\n",
        "\n",
        "        pred_all_context_sents = [re.sub(r'\\n+', ' ', sent.text).strip() for sent in pred_all_context_sents]\n",
        "\n",
        "        doc = nlp(pred_answer)\n",
        "        pred_answer_sents = list(doc.sents)\n",
        "        pred_answer_sents = [sent.text for sent in pred_answer_sents] \n",
        "\n",
        "\n",
        "        for i, pred_context_sent in enumerate(pred_context_sents):\n",
        "            start_index = 0\n",
        "            end_index = len(pred_answer) \n",
        "\n",
        "            for pred_answer_sent in pred_answer_sents:\n",
        "                right_reduction = len(pred_answer_sent) - len(pred_answer_sent.rstrip())\n",
        "                left_reduction = len(pred_answer_sent) - len(pred_answer_sent.lstrip())\n",
        "                end_index -= len(pred_answer_sent) + 0 if pred_context_sents[-1] == pred_answer_sent else 1\n",
        "\n",
        "                context_offset_start = pred_context.find(pred_context_sent)\n",
        "                context_offset_end = pred_context.find(pred_context_sent) + len(pred_context_sent)\n",
        "\n",
        "                if  context_offset_start - left_reduction <= offset_start + start_index and context_offset_end + right_reduction >= offset_end - end_index:\n",
        "                    candidate_sent_list.append(pred_context_sent)\n",
        "                \n",
        "                start_index += len(pred_answer_sent) + 0 if pred_context_sents[-1] == pred_answer_sent else 1\n",
        "\n",
        "        for reference_sent in reference_sents:\n",
        "            context_truth = 0\n",
        "\n",
        "            if reference_sent in pred_all_context_sents:\n",
        "                context_truth = 1\n",
        "\n",
        "            context_accuracy.append(context_truth)\n",
        "\n",
        "candidate_sent_set = set(candidate_sent_list)\n",
        "candidate = \" \".join(candidate_sent_set)\n",
        "\n",
        "\n",
        "print(f\"\"\"Question:  {question}\n",
        "###################################\n",
        "Reference answers: {reference_sents}\n",
        "###################################\n",
        "Reference context: {true_context}\n",
        "###################################\n",
        "Predicted answers: {candidate_sent_set}\n",
        "###################################\n",
        "Retrieved context: {pred_all_context_sents}\"\"\")"
      ],
      "execution_count": 23,
      "outputs": [
        {
          "output_type": "stream",
          "name": "stdout",
          "text": [
            "Question:  How should pregnant women use Inlyta?\n",
            "###################################\n",
            "Reference answers: ['Do not use Inlyta if you are pregnant.', 'It could harm the unborn baby.', 'Use birth control to prevent pregnancy while you are receiving this medicine, whether you are a man or a woman Both men and women using this medicine should use effective birth control to prevent pregnancy.']\n",
            "###################################\n",
            "Reference context: Do not use Inlyta if you are pregnant. It could harm the unborn baby. Use birth control to prevent pregnancy while you are receiving this medicine, whether you are a man or a woman. Inlyta use by either parent may cause birth defects or miscarriage.\n",
            "Axitinib can increase your risk of serious bleeding. Stop using Inlyta and call your doctor at once if you have severe stomach pain, bloody or tarry stools, coughing up blood, or any heavy or unusual bleeding.\n",
            "Some people taking this medicine have developed a perforation (a hole or tear) or a fistula (an abnormal passageway) within the stomach or intestines. Call your doctor if you have severe stomach pain, or if you feel like you are choking and gagging when you eat or drink.\n",
            "Inlyta is usually taken once every 12 hours. It should be taken at evenly spaced intervals. Follow your doctor's instructions.\n",
            "To be sure this medication is not causing harmful effects, your kidney, thyroid, and liver function will need to be tested. Your blood pressure will also need to be checked often. Visit your doctor regularly.\n",
            "Before taking this medicine\n",
            "You should not use Inlyta if you are allergic to axitinib.\n",
            "To make sure Inlyta is safe for you, tell your doctor if you have:\n",
            "a perforation (a hole or tear) in your stomach or intestines;\n",
            "bleeding problems, or a wound that has not healed;\n",
            "a heart attack, heart failure, stroke, or blood clot.\n",
            "high blood pressure;\n",
            "liver disease; or\n",
            "a thyroid disorder.\n",
            "You may need to have a negative pregnancy test before starting this treatment.\n",
            "Both men and women using this medicine should use effective birth control to prevent pregnancy. Axitinib can cause harm an unborn baby if the mother or father is using this medicine.\n",
            "Keep using birth control for at least 1 week after your last dose. Tell your doctor right away if a pregnancy occurs while either the mother or the father is using Inlyta.\n",
            "This medicine may affect fertility (ability to have children) in both men and women. However, it is important to use birth control to prevent pregnancy because axitinib can harm an unborn baby.\n",
            "It is not safe to breast-feed a baby while you are using this medicine. Also do not breast-feed for at least 2 weeks after your last dose.\n",
            "How should I take Inlyta?\n",
            "Take Inlyta exactly as prescribed by your doctor. Follow all directions on your prescription label and read all medication guides or instruction sheets. Your doctor may occasionally change your dose.\n",
            "Inlyta should be taken at evenly spaced intervals, usually once every 12 hours.\n",
            "Take this medicine with a full glass of water. You may take this medicine with or without food.\n",
            "Swallow the tablet whole and do not crush, chew, or break it.\n",
            "If you vomit shortly after taking Inlyta, do not take another dose. Wait until your next scheduled dose time to take the medicine again.\n",
            "Your blood pressure will need to be checked often. You may also need frequent medical tests.\n",
            "If you need surgery, tell your surgeon you currently use Inlyta. You will need to stop using the medicine at least 24 hours before a planned surgery.\n",
            "Store at room temperature away from moisture and heat.\n",
            "###################################\n",
            "Predicted answers: {'Inlyta is usually taken once every 12 hours.', 'Liletta is a T-shaped plastic intrauterine device (IUD) that is placed in the uterus where it slowly releases the hormone.'}\n",
            "###################################\n",
            "Retrieved context: ['Inlyta (axitinib) is a prescription medicine that interferes with the growth of some cancer cells.', 'Inlyta is used to treat advanced kidney cancer (advanced renal cell carcinoma).', 'Inlyta is sometimes given after at least one other cancer treatment did not work or has stopped working.', 'Inlyta use by either parent may cause birth defects or miscarriage.', 'Axitinib can increase your risk of serious bleeding.', 'Stop using Inlyta and call your doctor at once if you have severe stomach pain, bloody or tarry stools, coughing up blood, or any heavy or unusual bleeding.', 'Do not use Inlyta if you are pregnant.', 'It could harm the unborn baby.', 'Use birth control to prevent pregnancy while you are receiving this medicine, whether you are a man or a woman.', 'Levonorgestrel is a female hormone that can cause changes in your cervix and uterus.', 'Liletta is a T-shaped plastic intrauterine device (IUD) that is placed in the uterus where it slowly releases the hormone.', 'Liletta used to prevent pregnancy for 3 to 6 years.', 'Some people taking this medicine have developed a perforation (a hole or tear) or a fistula (an abnormal passageway) within the stomach or intestines.', 'Call your doctor if you have severe stomach pain, or if you feel like you are choking and gagging when you eat or drink.', 'Inlyta is usually taken once every 12 hours.']\n"
          ]
        }
      ]
    },
    {
      "cell_type": "code",
      "metadata": {
        "id": "g4JwMqlpC9NT"
      },
      "source": [
        ""
      ],
      "execution_count": null,
      "outputs": []
    }
  ]
}