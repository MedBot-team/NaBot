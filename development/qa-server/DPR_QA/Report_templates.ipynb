{
  "nbformat": 4,
  "nbformat_minor": 0,
  "metadata": {
    "colab": {
      "name": "Report templates.ipynb",
      "provenance": [],
      "collapsed_sections": []
    },
    "kernelspec": {
      "name": "python3",
      "display_name": "Python 3"
    },
    "language_info": {
      "name": "python"
    }
  },
  "cells": [
    {
      "cell_type": "markdown",
      "metadata": {
        "id": "cYnH5f13Gspn"
      },
      "source": [
        "### Retriever Parameters \n",
        "- passage_embedding_model =\n",
        "- query_embedding_model =\n",
        "- max_seq_len_query =\n",
        "- max_seq_len_passage =\n",
        "- top_k =\n",
        "- embed_title =\n",
        "\n",
        "\n",
        "### QA Parameters\n",
        "- model_name=\n",
        "- context_window_size=\n",
        "- top_k=\n",
        "- max_seq_len =\n",
        "- doc_stride =\n",
        "\n",
        "### Dataset\n",
        "- Number of contexts: \n",
        "- Number of questions: \n",
        "\n",
        "\n",
        "| type         \t| rouge-1 \t| rouge-2 \t| rouge-l \t| bleu \t| DPR accuracy \t| vram \t| document embedding time \t| inference time \t|\n",
        "|--------------\t|---------\t|---------\t|---------\t|------\t|--------------\t|------\t|-------------------------\t|----------------\t|\n",
        "| 3 sentences  \t|         \t|         \t|         \t|      \t|              \t|      \t|                         \t|                \t|\n",
        "| paragraphs   \t|         \t|         \t|         \t|      \t|              \t|      \t|                         \t|                \t|\n",
        "| full context \t|         \t|         \t|         \t|      \t|              \t|      \t|                         \t|                \t|\n",
        "\n",
        "\n",
        "### Sample 1 : \n",
        "\n",
        "- Question: \n",
        "- Reference answers: \n",
        "- Reference context:\n",
        "- Predicted answers: \n",
        "- Retrieved context:\n",
        "\n",
        "\n",
        "### Sample 2 : \n",
        "\n",
        "- Question: \n",
        "- Reference answers: \n",
        "- Reference context:\n",
        "- Predicted answers: \n",
        "- Retrieved context:\n",
        "\n",
        "\n",
        "### Sample 3 : \n",
        "\n",
        "- Question: \n",
        "- Reference answers: \n",
        "- Reference context:\n",
        "- Predicted answers: \n",
        "- Retrieved context:"
      ]
    },
    {
      "cell_type": "code",
      "metadata": {
        "id": "QGuKWm9lQfGo"
      },
      "source": [
        ""
      ],
      "execution_count": null,
      "outputs": []
    }
  ]
}