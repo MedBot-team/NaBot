{
  "nbformat": 4,
  "nbformat_minor": 0,
  "metadata": {
    "colab": {
      "name": "create_testqa.ipynb",
      "provenance": [],
      "collapsed_sections": []
    },
    "kernelspec": {
      "name": "python3",
      "display_name": "Python 3"
    },
    "language_info": {
      "name": "python"
    }
  },
  "cells": [
    {
      "cell_type": "code",
      "metadata": {
        "id": "Upcrw-PZAnQs"
      },
      "source": [
        "import json"
      ],
      "execution_count": null,
      "outputs": []
    },
    {
      "cell_type": "code",
      "metadata": {
        "id": "T8toSZbTAw8q"
      },
      "source": [
        "context = \"\"\"Use acetaminophen exactly as directed on the label, or as prescribed by your doctor. Do not use in larger or smaller amounts or for longer than recommended.\n",
        "Do not take more of this medication than is recommended. An overdose of acetaminophen can damage your liver or cause death.\n",
        "Adults and teenagers who weigh at least 110 pounds (50 kilograms): Do not take more than 1000 milligrams (mg) at one time. Do not take more than 4000 mg in 24 hours.\n",
        "Children younger than 12 years old: Do not take more than 5 doses of acetaminophen in 24 hours. Use only the number of milligrams per dose that is recommended for the child's weight and age. Use exactly as directed on the label.\n",
        "Avoid also using other medicines that contain acetaminophen, or you could have a fatal overdose.\n",
        "If you are treating a child, use a pediatric form of acetaminophen. Use only the special dose-measuring dropper or oral syringe that comes with the specific pediatric form you are using. Carefully follow the dosing directions on the medicine label.\n",
        "Measure liquid medicinewith the dosing syringe provided, or with a special dose-measuring spoon or medicine cup. If you do not have a dose-measuring device, ask your pharmacist for one.\n",
        "Acetaminophen made for infants is available in two different dose concentrations, and each concentration comes with its own medicine dropper or oral syringe. These dosing devices are not equal between the different concentrations. Using the wrong device may cause you to give your child an overdose of acetaminophen. Never mix and match dosing devices between infant formulations of acetaminophen.\n",
        "You may need to shake the liquid before each use. Follow the directions on the medicine label.\n",
        "The chewable tablet must be chewed thoroughly before you swallow it.\n",
        "Make sure your hands are dry when handling the acetaminophen disintegrating tablet. Place the tablet on your tongue. It will begin to dissolve right away. Do not swallow the tablet whole. Allow it to dissolve in your mouth without chewing.\n",
        "To use the acetaminophen effervescent granules, dissolve one packet of the granules in at least 4 ounces of water. Stir this mixture and drink all of it right away. To make sure you get the entire dose, add a little more water to the same glass, swirl gently and drink right away.\n",
        "The oral powder should be placed directly on the tongue and swallowed.\n",
        "Stop taking acetaminophen and call your doctor if:\n",
        "you still have a sore throat after 2 days of use;\n",
        "you still have a fever after 3 days of use;\n",
        "you still have pain after 7 days of use (or 5 days if treating a child);\n",
        "you have a skin rash, ongoing headache, nausea, vomiting, or any redness or swelling; or\n",
        "if your symptoms get worse, or if you have any new symptoms.\n",
        "This medication can cause unusual results with certain lab tests for glucose (sugar) in the urine. Tell any doctor who treats you that you are using acetaminophen.\n",
        "Store at room temperature away from heat and moisture.\n",
        "Detailed Acetaminophen dosage information\n",
        "What happens if I miss a dose?\n",
        "Since acetaminophen is taken as needed, you may not be on a dosing schedule. If you are taking the medication regularly, take the missed dose as soon as you remember. Skip the missed dose if it is almost time for your next scheduled dose. Do not take extra medicine to make up the missed dose.\n",
        "What happens if I overdose?\n",
        "Seek emergency medical attention or call the Poison Help line at 1-800-222-1222. An overdose of acetaminophen can be fatal.\n",
        "The first signs of an acetaminophen overdose include loss of appetite, nausea, vomiting, stomach pain, sweating, and confusion or weakness. Later symptoms may include pain in your upper stomach, dark urine, and yellowing of your skin or the whites of your eyes.\"\"\""
      ],
      "execution_count": null,
      "outputs": []
    },
    {
      "cell_type": "code",
      "metadata": {
        "id": "6BI5Yd1pA2QL"
      },
      "source": [
        "question = \"Can you give dosage information acetaminophen for children?\"\n",
        "\n",
        "answers = [\"Do not take more than 5 doses of acetaminophen in 24 hours.\", \n",
        "           \"Use only the number of milligrams per dose that is recommended for the child's weight and age.\",\n",
        "           \"Use exactly as directed on the label\",\n",
        "           \"If you are treating a child, use a pediatric form of acetaminophen.\",\n",
        "           \"Use only the special dose-measuring dropper or oral syringe that comes with the specific pediatric form you are using.\",\n",
        "           \"Carefully follow the dosing directions on the medicine label.\"]\n",
        "\n",
        "qas = [{'question':question, 'answers':answers}]"
      ],
      "execution_count": null,
      "outputs": []
    },
    {
      "cell_type": "code",
      "metadata": {
        "id": "pk_tX4TwA4R3"
      },
      "source": [
        "question = \"How much acetaminophen should children take?\"\n",
        "\n",
        "answers = [\"Do not take more than 5 doses of acetaminophen in 24 hours.\", \n",
        "           \"Use only the number of milligrams per dose that is recommended for the child's weight and age.\",\n",
        "           \"Use exactly as directed on the label\",\n",
        "           \"If you are treating a child, use a pediatric form of acetaminophen.\",\n",
        "           \"Use only the special dose-measuring dropper or oral syringe that comes with the specific pediatric form you are using.\",\n",
        "           \"Carefully follow the dosing directions on the medicine label.\"]\n",
        "\n",
        "qa = {'question':question, 'answers':answers}\n",
        "\n",
        "qas.append(qa)"
      ],
      "execution_count": null,
      "outputs": []
    },
    {
      "cell_type": "code",
      "metadata": {
        "id": "n1iVJIEbA59j"
      },
      "source": [
        "question = \"Can you give dosage information acetaminophen for adults?\"\n",
        "\n",
        "answers = [\"Do not take more than 1000 milligrams (mg) at one time.\", \n",
        "           \"Do not take more than 4000 mg in 24 hours.\"]\n",
        "\n",
        "qa = {'question':question, 'answers':answers}\n",
        "\n",
        "qas.append(qa)"
      ],
      "execution_count": null,
      "outputs": []
    },
    {
      "cell_type": "code",
      "metadata": {
        "id": "rXABkKLK8Q1w"
      },
      "source": [
        "question = \"What is the recommended dosage of acetaminophen for adults?\"\n",
        "\n",
        "answers = [\"Do not take more than 1000 milligrams (mg) at one time.\", \n",
        "           \"Do not take more than 4000 mg in 24 hours.\"]\n",
        "\n",
        "qa = {'question':question, 'answers':answers}\n",
        "\n",
        "qas.append(qa)"
      ],
      "execution_count": null,
      "outputs": []
    },
    {
      "cell_type": "code",
      "metadata": {
        "id": "gPDwewINA-sV"
      },
      "source": [
        "question = \"What happens if I miss a dosage of acetaminophen?\"\n",
        "\n",
        "answers = [\"Since acetaminophen is taken as needed, you may not be on a dosing schedule.\", \n",
        "           \"If you are taking the medication regularly, take the missed dose as soon as you remember.\",\n",
        "           \"Skip the missed dose if it is almost time for your next scheduled dose.\",\n",
        "           \"Do not take extra medicine to make up the missed dose.\"]\n",
        "\n",
        "qa = {'question':question, 'answers':answers}\n",
        "\n",
        "qas.append(qa)"
      ],
      "execution_count": null,
      "outputs": []
    },
    {
      "cell_type": "code",
      "metadata": {
        "id": "pEd1jLlb8eYX"
      },
      "source": [
        "question = \"If I miss a dose of acetaminophen, what happens?\"\n",
        "\n",
        "answers = [\"Since acetaminophen is taken as needed, you may not be on a dosing schedule.\", \n",
        "           \"If you are taking the medication regularly, take the missed dose as soon as you remember.\",\n",
        "           \"Skip the missed dose if it is almost time for your next scheduled dose.\",\n",
        "           \"Do not take extra medicine to make up the missed dose.\"]\n",
        "\n",
        "qa = {'question':question, 'answers':answers}\n",
        "\n",
        "qas.append(qa)\n"
      ],
      "execution_count": null,
      "outputs": []
    },
    {
      "cell_type": "code",
      "metadata": {
        "id": "Q0TX6TFSBAWc"
      },
      "source": [
        "question = \"What are the symptoms of acetaminophen overdose?\"\n",
        "\n",
        "answers = [\"The first signs of an acetaminophen overdose include loss of appetite, nausea, vomiting, stomach pain, sweating, and confusion or weakness.\", \n",
        "           \"Later symptoms may include pain in your upper stomach, dark urine, and yellowing of your skin or the whites of your eyes.\"]\n",
        "\n",
        "qa = {'question':question, 'answers':answers}\n",
        "\n",
        "qas.append(qa)"
      ],
      "execution_count": null,
      "outputs": []
    },
    {
      "cell_type": "code",
      "metadata": {
        "id": "0MJX9y3y8tuN"
      },
      "source": [
        "question = \"How can acetaminophen overdose be recognized?\"\n",
        "\n",
        "answers = [\"The first signs of an acetaminophen overdose include loss of appetite, nausea, vomiting, stomach pain, sweating, and confusion or weakness.\", \n",
        "           \"Later symptoms may include pain in your upper stomach, dark urine, and yellowing of your skin or the whites of your eyes.\"]\n",
        "\n",
        "qa = {'question':question, 'answers':answers}\n",
        "\n",
        "qas.append(qa)"
      ],
      "execution_count": null,
      "outputs": []
    },
    {
      "cell_type": "code",
      "metadata": {
        "id": "w1b85vlHBCRC"
      },
      "source": [
        "data = [{'context':context, 'qas':qas}]"
      ],
      "execution_count": null,
      "outputs": []
    },
    {
      "cell_type": "code",
      "metadata": {
        "id": "iWUrYDsKBEBn"
      },
      "source": [
        "context = \"\"\"Follow all directions on your prescription label. Do not take this medicine in larger or smaller amounts or for longer than recommended.\n",
        "You may take the terbinafine tablet with or without food.\n",
        "Terbinafine granules should be sprinkled into a spoonful of pudding or mashed potatoes (do not mix with applesauce, fruit juice, or other fruit-based or acidic foods). Swallow this mixture right away without chewing. Do not save the mixture for later use.\n",
        "Terbinafine is usually taken for 6 weeks to treat scalp or fingernail infections, and for 12 weeks to treat a toenail infection.\n",
        "Use this medicine for the full prescribed length of time. Your symptoms may improve before the infection is completely cleared. Skipping doses may also increase your risk of further infection that is resistant to antifungal medicine. Terbinafine will not treat a viral infection such as the flu or a common cold.\n",
        "While using terbinafine, you may need frequent blood tests.\n",
        "It may take several months for your nails to return to their normal appearance after your treatment with terbinafine.\n",
        "Store at room temperature away from moisture, heat, and light. Keep the terbinafine oral granules in their sealed packet until you are ready to use.\n",
        "Detailed Terbinafine dosage information\n",
        "What happens if I miss a dose?\n",
        "Take the missed dose as soon as you remember. Skip the missed dose if it is almost time for your next scheduled dose. Do not take extra medicine to make up the missed dose.\n",
        "What happens if I overdose?\n",
        "Seek emergency medical attention or call the Poison Help line at 1-800-222-1222.\n",
        "Overdose symptoms may include headache, dizziness, vomiting, stomach pain, rash, and increased urination.\"\"\""
      ],
      "execution_count": null,
      "outputs": []
    },
    {
      "cell_type": "code",
      "metadata": {
        "id": "wfj4q7ghBFbj"
      },
      "source": [
        "question = \"What happens if I miss a dosage of terbinafine?\"\n",
        "\n",
        "answers = [\"Take the missed dose as soon as you remember.\", \n",
        "           \"Skip the missed dose if it is almost time for your next scheduled dose.\",\n",
        "           \"Do not take extra medicine to make up the missed dose.\"]\n",
        "\n",
        "qas = [{'question':question, 'answers':answers}]"
      ],
      "execution_count": null,
      "outputs": []
    },
    {
      "cell_type": "code",
      "metadata": {
        "id": "87-xdFVqBHR6"
      },
      "source": [
        "question = \"What happens if I overdose of terbinafine?\"\n",
        "\n",
        "answers = [\"Seek emergency medical attention or call the Poison Help line at 1-800-222-1222.\"]\n",
        "\n",
        "qa = {'question':question, 'answers':answers}\n",
        "\n",
        "qas.append(qa)"
      ],
      "execution_count": null,
      "outputs": []
    },
    {
      "cell_type": "code",
      "metadata": {
        "id": "O6xxnFT3BJB3"
      },
      "source": [
        "question = \"What is the symptoms of overdose of terbinafine?\"\n",
        "\n",
        "answers = [\"Overdose symptoms may include headache, dizziness, vomiting, stomach pain, rash, and increased urination.\"]\n",
        "\n",
        "qa = {'question':question, 'answers':answers}\n",
        "\n",
        "qas.append(qa)"
      ],
      "execution_count": null,
      "outputs": []
    },
    {
      "cell_type": "code",
      "metadata": {
        "id": "YrlCmMsdBK95"
      },
      "source": [
        "data.append({'context':context, 'qas':qas})"
      ],
      "execution_count": null,
      "outputs": []
    },
    {
      "cell_type": "code",
      "metadata": {
        "id": "fFmiW8p7BNSW"
      },
      "source": [
        "context = \"\"\"Sometimes it is not safe to use certain medications at the same time. Some drugs can affect your blood levels of other drugs you take, which may increase side effects or make the medications less effective.\n",
        "Tell your doctor about all your current medicines. Many drugs can affect imatinib, especially:\n",
        "an antibiotic, antifungal, or antiviral medicine;\n",
        "seizure medicine;\n",
        "a blood thinner such as warfarin (Coumadin, Jantoven); or\n",
        "a vitamin or mineral supplement that contains iron.\n",
        "This list is not complete and many other drugs may affect imatinib. This includes prescription and over-the-counter medicines, vitamins, and herbal products. Not all possible drug interactions are listed here.\n",
        "Imatinib drug interactions (more detail)\n",
        "Does Imatinib interact with my other drugs?\n",
        "Enter other medications to view a detailed report.\n",
        "Drug name\n",
        "Add a drug to check interactions\n",
        "Add\"\"\""
      ],
      "execution_count": null,
      "outputs": []
    },
    {
      "cell_type": "code",
      "metadata": {
        "id": "12wf9P7vBPGo"
      },
      "source": [
        "question = \"What other drugs will affect Brigatinib?\"\n",
        "\n",
        "answers = [\"an antibiotic, antifungal, or antiviral medicine;\",\n",
        "           \"seizure medicine;\",\n",
        "           \"a blood thinner such as warfarin (Coumadin, Jantoven); or\",\n",
        "           \"a vitamin or mineral supplement that contains iron.\"]\n",
        "\n",
        "qas = [{'question':question, 'answers':answers}]"
      ],
      "execution_count": null,
      "outputs": []
    },
    {
      "cell_type": "code",
      "metadata": {
        "id": "YS7tqCULBQxU"
      },
      "source": [
        "data.append({'context':context, 'qas':qas})"
      ],
      "execution_count": null,
      "outputs": []
    },
    {
      "cell_type": "code",
      "metadata": {
        "id": "wgwxsohoBSRx"
      },
      "source": [
        "context = \"\"\"Usual Adult Dose for Pain:\n",
        "Individualize therapy taking into consideration severity of pain, response to therapy, prior analgesic treatment experience, and risk factors for addiction, abuse, and misuse:\n",
        "Immediate-Release:\n",
        "Initial dose: 50 to 100 mg orally every 4 to 6 hours as needed for pain\n",
        "-Day 1: A second dose may be administered as soon as 1 hour after the first dose if needed\n",
        "-Subsequent dosing: 50, 75, or 100 mg orally every 4 to 6 hours; adjust dosing to maintain adequate analgesia with acceptable tolerability\n",
        "Maximum dose: 700 mg on day 1; 600 mg/day on subsequent days\n",
        "Comments:\n",
        "-Use the lowest effective dosage for the shortest duration consistent with individual patient treatment goals.\n",
        "-Monitor closely for respiratory depression, especially within the first 24 to 72 hours of initiating therapy and with each dose increase.\n",
        "-Due to risks of addiction, abuse, and misuse, even at recommended doses, reserve use for patients for whom alternative treatment options (e.g., non-opioid analgesics or opioid combination products) have not been tolerated, or are not expected to be tolerated, or have not provided adequate analgesia, or are not expected to provide adequate analgesia.\n",
        "Usual Adult Dose for Chronic Pain:\n",
        "Individualize therapy taking into consideration severity of pain, response to therapy, prior analgesic treatment experience, and risk factors for addiction, abuse, and misuse:\n",
        "-Discontinue all other tapentadol and tramadol products prior to starting tapentadol extended-release tablets\n",
        "EXTENDED RELEASE TABLETS:\n",
        "Initial dose: 50 mg orally twice a day\n",
        "-Individually titrate to a dose that provides adequate analgesia and minimizes adverse reactions; dose increases should not exceed 50 mg twice a day every 3 days\n",
        "Maintenance dose: 100 mg to 250 mg orally twice a day\n",
        "Maximum dose: 500 mg/day\n",
        "CONVERSION from IMMEDIATE-RELEASE to EXTENDED-RELEASE:\n",
        "-Provide same total daily dose of tapentadol divided into 2 equal doses and administered orally twice a day approximately 12 hours apart\n",
        "CONVERSION from Other Opioids:\n",
        "-As there are no established conversion ratios from other opioids, initiate at 50 mg orally every 12 hours\n",
        "-Close observation and frequent titration are warranted until pain is controlled; monitor for signs and symptom of opioid withdrawal\n",
        "-Provide rescue medication with an appropriate dose of an immediate-release analgesic as appropriate\n",
        "Comments:\n",
        "-For patients with breakthrough pain a rescue medication with an appropriate dose of an immediate-release analgesic may be needed.\n",
        "-If the level of pain increases after dose stabilization, attempt to identify the source of increased pain before increasing dose.\n",
        "-Because of the risks of addiction, abuse, and misuse even at recommended doses, use should be limited to patients for whom alternative treatment options (e.g. non-opioid analgesics or immediate-release opioids) are ineffective, not tolerated, or would be otherwise inadequate to provide sufficient pain management.\n",
        "-This medicine is not for use as an as-needed analgesic.\n",
        "Detailed Nucynta dosage information\n",
        "What happens if I miss a dose?\n",
        "Since Nucynta is used for pain, you are not likely to miss a dose. Skip any missed dose if it is almost time for your next scheduled dose. Do not take extra medicine to make up the missed dose.\n",
        "Do not take extra medicine to make up a missed dose. Do not take more than your prescribed dose in a 24-hour period.\n",
        "What happens if I overdose?\n",
        "Seek emergency medical attention or call the Poison Help line at 1-800-222-1222. An overdose can be fatal, especially in a child or person using opioid medicine without a prescription. Overdose symptoms may include severe drowsiness, pinpoint pupils, slow breathing, or no breathing.\n",
        "Your doctor may recommend you get naloxone (a medicine to reverse an opioid overdose) and keep it with you at all times. A person caring for you can give the naloxone if you stop breathing or don't wake up. Your caregiver must still get emergency medical help and may need to perform CPR (cardiopulmonary resuscitation) on you while waiting for help to arrive.\n",
        "Anyone can buy naloxone from a pharmacy or local health department. Make sure any person caring for you knows where you keep naloxone and how to use it.\"\"\""
      ],
      "execution_count": null,
      "outputs": []
    },
    {
      "cell_type": "code",
      "metadata": {
        "id": "RJru2dWCBVgl"
      },
      "source": [
        "question = \"I’m looking for Initial dosage of Nucynta in the Immediate-Release\"\n",
        "\n",
        "answers = [\"50 to 100 mg orally every 4 to 6 hours as needed for pain\"]\n",
        "\n",
        "qas = [{'question':question, 'answers':answers}]"
      ],
      "execution_count": null,
      "outputs": []
    },
    {
      "cell_type": "code",
      "metadata": {
        "id": "dcOWNzFC9HOB"
      },
      "source": [
        "question = \"I am looking for Nucynta's Immediate-Release dosages\"\n",
        "\n",
        "answers = [\"50 to 100 mg orally every 4 to 6 hours as needed for pain\"]\n",
        "\n",
        "qa = {'question':question, 'answers':answers}\n",
        "\n",
        "qas.append(qa)"
      ],
      "execution_count": null,
      "outputs": []
    },
    {
      "cell_type": "code",
      "metadata": {
        "id": "uznyp8nQBXZ7"
      },
      "source": [
        "question = \"Give me the Maximum dosage of Nucynta in the Immediate-Release\"\n",
        "\n",
        "answers = [\"700 mg on day 1; 600 mg/day on subsequent days\"]\n",
        "\n",
        "qa = {'question':question, 'answers':answers}\n",
        "\n",
        "qas.append(qa)"
      ],
      "execution_count": null,
      "outputs": []
    },
    {
      "cell_type": "code",
      "metadata": {
        "id": "TF0HYN-ZBZlt"
      },
      "source": [
        "question = \"Give me the Maintenance dosage of Nucynta in the EXTENDED RELEASE\"\n",
        "\n",
        "answers = [\"100 mg to 250 mg orally twice a day\"]\n",
        "\n",
        "qa = {'question':question, 'answers':answers}\n",
        "\n",
        "qas.append(qa)"
      ],
      "execution_count": null,
      "outputs": []
    },
    {
      "cell_type": "code",
      "metadata": {
        "id": "jIpfBqOdBbVD"
      },
      "source": [
        "question = \"Give me the Maximum dosage of Nucynta in the EXTENDED RELEASE\"\n",
        "\n",
        "answers = [\"500 mg/day\"]\n",
        "\n",
        "qa = {'question':question, 'answers':answers}\n",
        "\n",
        "qas.append(qa)"
      ],
      "execution_count": null,
      "outputs": []
    },
    {
      "cell_type": "code",
      "metadata": {
        "id": "44IJk3lf9XsU"
      },
      "source": [
        "question = \"Could you please tell me the maximum dosage of Nucynta in the extended release\"\n",
        "\n",
        "answers = [\"500 mg/day\"]\n",
        "\n",
        "qa = {'question':question, 'answers':answers}\n",
        "\n",
        "qas.append(qa)"
      ],
      "execution_count": null,
      "outputs": []
    },
    {
      "cell_type": "code",
      "metadata": {
        "id": "Dvw3kK53BdOK"
      },
      "source": [
        "question = \"I’m looking for Initial dosage of Nucynta in the EXTENDED RELEASE\"\n",
        "\n",
        "answers = [\"50 mg orally twice a day\"]\n",
        "\n",
        "qa = {'question':question, 'answers':answers}\n",
        "\n",
        "qas.append(qa)"
      ],
      "execution_count": null,
      "outputs": []
    },
    {
      "cell_type": "code",
      "metadata": {
        "id": "K86kurg4BfA6"
      },
      "source": [
        "question = \"What happens if I miss a dose of Nucynta?\"\n",
        "\n",
        "answers = [\"Since Nucynta is used for pain, you are not likely to miss a dose.\",\n",
        "           \"Skip any missed dose if it is almost time for your next scheduled dose.\",\n",
        "           \"Do not take extra medicine to make up the missed dose.\",\n",
        "           \"Do not take extra medicine to make up a missed dose.\",\n",
        "           \"Do not take more than your prescribed dose in a 24-hour period.\"]\n",
        "\n",
        "qa = {'question':question, 'answers':answers}\n",
        "\n",
        "qas.append(qa)"
      ],
      "execution_count": null,
      "outputs": []
    },
    {
      "cell_type": "code",
      "metadata": {
        "id": "TKsYnjHpBhIU"
      },
      "source": [
        "question = \"What happens if I overdose of Nucynta?\"\n",
        "\n",
        "\n",
        "answers = [\"Seek emergency medical attention or call the Poison Help line at 1-800-222-1222.\",\n",
        "           \"An overdose can be fatal, especially in a child or person using opioid medicine without a prescription.\",\n",
        "           \"Overdose symptoms may include severe drowsiness, pinpoint pupils, slow breathing, or no breathing.\"]\n",
        "\n",
        "qa = {'question':question, 'answers':answers}\n",
        "\n",
        "qas.append(qa)"
      ],
      "execution_count": null,
      "outputs": []
    },
    {
      "cell_type": "code",
      "metadata": {
        "id": "6Ri255Ih94ag"
      },
      "source": [
        "question = \"In the event that I overdose on Nucynta, what happens?\"\n",
        "\n",
        "answers = [\"Seek emergency medical attention or call the Poison Help line at 1-800-222-1222.\",\n",
        "           \"An overdose can be fatal, especially in a child or person using opioid medicine without a prescription.\",\n",
        "           \"Overdose symptoms may include severe drowsiness, pinpoint pupils, slow breathing, or no breathing.\"]\n",
        "\n",
        "qa = {'question':question, 'answers':answers}\n",
        "\n",
        "qas.append(qa)"
      ],
      "execution_count": null,
      "outputs": []
    },
    {
      "cell_type": "code",
      "metadata": {
        "id": "tRKb0abhBimO"
      },
      "source": [
        "data.append({'context':context, 'qas':qas})"
      ],
      "execution_count": null,
      "outputs": []
    },
    {
      "cell_type": "code",
      "metadata": {
        "id": "6MxXenXTBkJ1"
      },
      "source": [
        "context = \"\"\"Usual Adult Dose of Gemfibrozil for Hyperlipidemia:\n",
        "600 mg orally twice a day, 30 minutes before the morning and evening meals\n",
        "Uses: As an adjunct to diet in the following situations: to treat hypertriglyceridemia in Types IV and V hyperlipidemia in patients who present at risk for pancreatitis and who do not respond adequately to diet; to reduce the risk for coronary heart disease (CHD) only in Type IIb patients without a history of or symptoms of existing CHD who have not responded adequately to other pharmacologic agents and nonpharmacologic interventions and who have low high density lipoprotein (HDL), elevated low density lipoprotein (LDL), and elevated triglycerides\n",
        "Usual Adult Dose of Gemfibrozil for Hyperlipoproteinemia Type IIb (Elevated LDL + VLDL):\n",
        "600 mg orally twice a day, 30 minutes before the morning and evening meals\n",
        "Uses: As an adjunct to diet in the following situations: to treat hypertriglyceridemia in Types IV and V hyperlipidemia in patients who present at risk for pancreatitis and who do not respond adequately to diet; to reduce the risk for coronary heart disease (CHD) only in Type IIb patients without a history of or symptoms of existing CHD who have not responded adequately to other pharmacologic agents and nonpharmacologic interventions and who have low high density lipoprotein (HDL), elevated low density lipoprotein (LDL), and elevated triglycerides\n",
        "Usual Adult Dose of Gemfibrozil for Hyperlipoproteinemia Type IV (Elevated VLDL):\n",
        "600 mg orally twice a day, 30 minutes before the morning and evening meals\n",
        "Uses: As an adjunct to diet in the following situations: to treat hypertriglyceridemia in Types IV and V hyperlipidemia in patients who present at risk for pancreatitis and who do not respond adequately to diet; to reduce the risk for coronary heart disease (CHD) only in Type IIb patients without a history of or symptoms of existing CHD who have not responded adequately to other pharmacologic agents and nonpharmacologic interventions and who have low high density lipoprotein (HDL), elevated low density lipoprotein (LDL), and elevated triglycerides\n",
        "Usual Adult Dose for Hyperlipoproteinemia Type V (Elevated Chylomicrons + VLDL):\n",
        "600 mg orally twice a day, 30 minutes before the morning and evening meals\n",
        "Uses: As an adjunct to diet in the following situations: to treat hypertriglyceridemia in Types IV and V hyperlipidemia in patients who present at risk for pancreatitis and who do not respond adequately to diet; to reduce the risk for coronary heart disease (CHD) only in Type IIb patients without a history of or symptoms of existing CHD who have not responded adequately to other pharmacologic agents and nonpharmacologic interventions and who have low high density lipoprotein (HDL), elevated low density lipoprotein (LDL), and elevated triglycerides\n",
        "Usual Adult Dose for Hypertriglyceridemia:\n",
        "600 mg orally twice a day, 30 minutes before the morning and evening meals\n",
        "Uses: As an adjunct to diet in the following situations: to treat hypertriglyceridemia in Types IV and V hyperlipidemia in patients who present at risk for pancreatitis and who do not respond adequately to diet; to reduce the risk for coronary heart disease (CHD) only in Type IIb patients without a history of or symptoms of existing CHD who have not responded adequately to other pharmacologic agents and nonpharmacologic interventions and who have low high density lipoprotein (HDL), elevated low density lipoprotein (LDL), and elevated triglycerides\n",
        "Usual Adult Dose for Prevention of Cardiovascular Disease:\n",
        "600 mg orally twice a day, 30 minutes before the morning and evening meals\n",
        "Uses: As an adjunct to diet in the following situations: to treat hypertriglyceridemia in Types IV and V hyperlipidemia in patients who present at risk for pancreatitis and who do not respond adequately to diet; to reduce the risk for coronary heart disease (CHD) only in Type IIb patients without a history of or symptoms of existing CHD who have not responded adequately to other pharmacologic agents and nonpharmacologic interventions and who have low high density lipoprotein (HDL), elevated low density lipoprotein (LDL), and elevated triglycerides\n",
        "Detailed Gemfibrozil dosage information\n",
        "What happens if I miss a dose?\n",
        "Take the medicine as soon as you can, but skip the missed dose if it is almost time for your next dose. Do not take two doses at one time.\n",
        "What happens if I overdose?\n",
        "Seek emergency medical attention or call the Poison Help line at 1-800-222-1222.\"\"\""
      ],
      "execution_count": null,
      "outputs": []
    },
    {
      "cell_type": "code",
      "metadata": {
        "id": "y43ttu7eBmGK"
      },
      "source": [
        "question = \"What is the dosage of Gemfibrozil for Hyperlipidemia?\"\n",
        "\n",
        "answers = [\"600 mg orally twice a day, 30 minutes before the morning and evening meals\"]\n",
        "\n",
        "qas = [{'question':question, 'answers':answers}]"
      ],
      "execution_count": null,
      "outputs": []
    },
    {
      "cell_type": "code",
      "metadata": {
        "id": "Sf3a32-2Bn63"
      },
      "source": [
        "question = \"Give me dosage information of Gemfibrozil for Hyperlipoproteinemia Type IIb\"\n",
        "\n",
        "answers = [\"600 mg orally twice a day, 30 minutes before the morning and evening meals\"]\n",
        "\n",
        "qa = {'question':question, 'answers':answers}\n",
        "\n",
        "qas.append(qa)"
      ],
      "execution_count": null,
      "outputs": []
    },
    {
      "cell_type": "code",
      "metadata": {
        "id": "Yt70GP5ABpwP"
      },
      "source": [
        "question = \"Give me dosage information of Gemfibrozil for Hyperlipoproteinemia Type IV\"\n",
        "\n",
        "answers = [\"600 mg orally twice a day, 30 minutes before the morning and evening meals\"]\n",
        "\n",
        "qa = {'question':question, 'answers':answers}\n",
        "\n",
        "qas.append(qa)"
      ],
      "execution_count": null,
      "outputs": []
    },
    {
      "cell_type": "code",
      "metadata": {
        "id": "88xLG9v3Brs7"
      },
      "source": [
        "question = \"Give me dosage information of Gemfibrozil for Hyperlipoproteinemia Type V\"\n",
        "\n",
        "answers = [\"600 mg orally twice a day, 30 minutes before the morning and evening meals\"]\n",
        "\n",
        "qa = {'question':question, 'answers':answers}\n",
        "\n",
        "qas.append(qa)"
      ],
      "execution_count": null,
      "outputs": []
    },
    {
      "cell_type": "code",
      "metadata": {
        "id": "KSu-z_qgBt3N"
      },
      "source": [
        "question = \"Give me dosage information of Gemfibrozil for Hypertriglyceridemia\"\n",
        "\n",
        "answers = [\"600 mg orally twice a day, 30 minutes before the morning and evening meals\"]\n",
        "\n",
        "qa = {'question':question, 'answers':answers}\n",
        "\n",
        "qas.append(qa)"
      ],
      "execution_count": null,
      "outputs": []
    },
    {
      "cell_type": "code",
      "metadata": {
        "id": "OGn3M7isBvWT"
      },
      "source": [
        "question = \"Give me dosage information of Gemfibrozil for Prevention of Cardiovascular Disease\"\n",
        "\n",
        "answers = [\"600 mg orally twice a day, 30 minutes before the morning and evening meals\"]\n",
        "\n",
        "qa = {'question':question, 'answers':answers}\n",
        "\n",
        "qas.append(qa)"
      ],
      "execution_count": null,
      "outputs": []
    },
    {
      "cell_type": "code",
      "metadata": {
        "id": "vWWw1xq6BxGa"
      },
      "source": [
        "question = \"What is the uses of Gemfibrozil?\"\n",
        "\n",
        "answers = [\"Uses: As an adjunct to diet in the following situations: to treat hypertriglyceridemia in Types IV and V hyperlipidemia in patients who present at risk for pancreatitis and who do not respond adequately to diet; to reduce the risk for coronary heart disease (CHD) only in Type IIb patients without a history of or symptoms of existing CHD who have not responded adequately to other pharmacologic agents and nonpharmacologic interventions and who have low high density lipoprotein (HDL), elevated low density lipoprotein (LDL), and elevated triglycerides\"]\n",
        "\n",
        "qa = {'question':question, 'answers':answers}\n",
        "\n",
        "qas.append(qa)"
      ],
      "execution_count": null,
      "outputs": []
    },
    {
      "cell_type": "code",
      "metadata": {
        "id": "eO3ypI7pByrY"
      },
      "source": [
        "data.append({'context':context, 'qas':qas})"
      ],
      "execution_count": null,
      "outputs": []
    },
    {
      "cell_type": "code",
      "metadata": {
        "id": "L373Nez4B0R5"
      },
      "source": [
        "context = \"\"\"Use ibuprofen exactly as directed on the label, or as prescribed by your doctor. Use the lowest dose that is effective in treating your condition.\n",
        "An ibuprofen overdose can damage your stomach or intestines. The maximum amount of ibuprofen for adults is 800 milligrams per dose or 3200 mg per day (4 maximum doses).\n",
        "A child's dose is based on the age and weight of the child. Carefully follow the dosing instructions provided with children's ibuprofen for the age and weight of your child. Ask a doctor or pharmacist if you have questions.\n",
        "Take ibuprofen with food or milk to lessen stomach upset.\n",
        "Shake the oral suspension (liquid) before you measure a dose. Use the dosing syringe provided, or use a medicine dose-measuring device (not a kitchen spoon).\n",
        "You must chew the chewable tablet before you swallow it.\n",
        "Store at room temperature away from moisture and heat. Do not allow the liquid medicine to freeze.\n",
        "Detailed Ibuprofen dosage information\n",
        "What happens if I miss a dose?\n",
        "Since ibuprofen is used when needed, you may not be on a dosing schedule. Skip any missed dose if it's almost time for your next dose. Do not use two doses at one time.\n",
        "What happens if I overdose?\n",
        "Seek emergency medical attention or call the Poison Help line at 1-800-222-1222. Overdose symptoms may include nausea, vomiting, stomach pain, drowsiness, black or bloody stools, coughing up blood, shallow breathing, fainting, or coma.\"\"\""
      ],
      "execution_count": null,
      "outputs": []
    },
    {
      "cell_type": "code",
      "metadata": {
        "id": "2ti4v6bJB1sB"
      },
      "source": [
        "question = \"What is the dosage of Gemfibrozil for Hyperlipidemia?\"\n",
        "\n",
        "answers = [\"600 mg orally twice a day, 30 minutes before the morning and evening meals\"]\n",
        "\n",
        "qas = [{'question':question, 'answers':answers}]"
      ],
      "execution_count": null,
      "outputs": []
    },
    {
      "cell_type": "code",
      "metadata": {
        "id": "5TfLMreCB3kC"
      },
      "source": [
        "question = \"What is the uses of Gemfibrozil?\"\n",
        "\n",
        "answers = [\"Uses: As an adjunct to diet in the following situations: to treat hypertriglyceridemia in Types IV and V hyperlipidemia in patients who present at risk for pancreatitis and who do not respond adequately to diet; to reduce the risk for coronary heart disease (CHD) only in Type IIb patients without a history of or symptoms of existing CHD who have not responded adequately to other pharmacologic agents and nonpharmacologic interventions and who have low high density lipoprotein (HDL), elevated low density lipoprotein (LDL), and elevated triglycerides\"]\n",
        "\n",
        "qa = {'question':question, 'answers':answers}\n",
        "\n",
        "qas.append(qa)"
      ],
      "execution_count": null,
      "outputs": []
    },
    {
      "cell_type": "code",
      "metadata": {
        "id": "st5ZVpBqZqLN"
      },
      "source": [
        "data.append({'context':context, 'qas':qas})"
      ],
      "execution_count": null,
      "outputs": []
    },
    {
      "cell_type": "code",
      "metadata": {
        "id": "SiX24B49ZHCK"
      },
      "source": [
        "context = \"\"\"Use exactly as directed on the label, or as prescribed by your doctor. Do not use in larger or smaller amounts or for longer than recommended.\n",
        "Take Zinc with a full glass of water.\n",
        "Take Zinc with food if it upsets your stomach.\n",
        "Your healthcare provider may occasionally change your dose to make sure you get the best result. The recommended dietary allowance of zinc sulfate changes with age. Follow your healthcare provider's instructions. You may also consult the Office of Dietary Supplements of the National Institutes of Health, or the U.S. Department of Agriculture (USDA) Nutrient Database (formerly \"Recommended Daily Allowances\") listings for more information.\n",
        "Store at room temperature away from moisture and heat.\n",
        "Detailed Zinc dosage information\n",
        "What happens if I miss a dose?\n",
        "Skip the missed dose if it is almost time for your next scheduled dose. Do not use extra medicine to make up the missed dose.\n",
        "What happens if I overdose?\n",
        "Seek emergency medical attention or call the Poison Help line at 1-800-222-1222.\n",
        "Overdose symptoms may include nausea, severe vomiting, dehydration, and restlessness.\"\"\""
      ],
      "execution_count": null,
      "outputs": []
    },
    {
      "cell_type": "code",
      "metadata": {
        "id": "fbDtAgGsZG97"
      },
      "source": [
        "question = \"What happens if I overdose for Zinc?\"\n",
        "\n",
        "answers = [\"Seek emergency medical attention or call the Poison Help line at 1-800-222-1222.\"]\n",
        "\n",
        "qas = [{'question':question, 'answers':answers}]"
      ],
      "execution_count": null,
      "outputs": []
    },
    {
      "cell_type": "code",
      "metadata": {
        "id": "-yLCQVMEZG7m"
      },
      "source": [
        "question = \"What happens if I miss a dose of Zinc?\"\n",
        "\n",
        "answers = [\"Skip the missed dose if it is almost time for your next scheduled dose. Do not use extra medicine to make up the missed dose.\"]\n",
        "\n",
        "qa = {'question':question, 'answers':answers}\n",
        "\n",
        "qas.append(qa)"
      ],
      "execution_count": null,
      "outputs": []
    },
    {
      "cell_type": "code",
      "metadata": {
        "id": "H6fxE5SXZG5V"
      },
      "source": [
        "data.append({'context':context, 'qas':qas})"
      ],
      "execution_count": null,
      "outputs": []
    },
    {
      "cell_type": "code",
      "metadata": {
        "id": "j8Hal29RZG3M"
      },
      "source": [
        "context = \"\"\"Take diazepam exactly as it was prescribed for you. Follow the directions on your prescription label and read all medication guides. Your doctor may occasionally change your dose. Never use this medicine in larger amounts, or for longer than prescribed. Tell your doctor if you feel an increased urge to use more of diazepam.\n",
        "Never share this medicine with another person, especially someone with a history of drug abuse or addiction. MISUSE CAN CAUSE ADDICTION, OVERDOSE, OR DEATH. Keep the medication in a place where others cannot get to it. Selling or giving away this medicine is against the law.\n",
        "Measure liquid medicine carefully. Use the dosing syringe provided, or use a medicine dose-measuring device (not a kitchen spoon).\n",
        "Diazepam should be used for only a short time. Do not take this medicine for longer than 4 months without your doctor's advice.\n",
        "Do not stop using this medicine suddenly, even if you feel fine. Stopping suddenly may cause increased seizures or unpleasant withdrawal symptoms. Follow your doctor's instructions about tapering your dose.\n",
        "You will need frequent medical tests.\n",
        "Store at room temperature away from moisture, heat, and light. Keep track of your medicine. You should be aware if anyone is using it improperly or without a prescription.\n",
        "Detailed Diazepam dosage information\n",
        "What happens if I miss a dose?\n",
        "Take the medicine as soon as you can, but skip the missed dose if it is almost time for your next dose. Do not take two doses at one time.\n",
        "What happens if I overdose?\n",
        "Seek emergency medical attention or call the Poison Help line at 1-800-222-1222. An overdose of diazepam can be fatal if you take it with alcohol, opioid medicine, or other drugs that cause drowsiness or slow your breathing.\n",
        "Overdose symptoms may include extreme drowsiness, loss of balance or coordination, limp or weak muscles, slow breathing, or coma.\"\"\""
      ],
      "execution_count": null,
      "outputs": []
    },
    {
      "cell_type": "code",
      "metadata": {
        "id": "nCKI4jvEZG0Y"
      },
      "source": [
        "question = \"What misuse of diazepam can cause?\"\n",
        "\n",
        "answers = [\"MISUSE CAN CAUSE ADDICTION, OVERDOSE, OR DEATH.\"]\n",
        "\n",
        "qas = [{'question':question, 'answers':answers}]"
      ],
      "execution_count": null,
      "outputs": []
    },
    {
      "cell_type": "code",
      "metadata": {
        "id": "YqUMX-rf9o9m"
      },
      "source": [
        "question = \"How can misuse of diazepam cause harm?\"\n",
        "\n",
        "answers = [\"MISUSE CAN CAUSE ADDICTION, OVERDOSE, OR DEATH.\"]\n",
        "\n",
        "qa = {'question':question, 'answers':answers}\n",
        "\n",
        "qas.append(qa)"
      ],
      "execution_count": null,
      "outputs": []
    },
    {
      "cell_type": "code",
      "metadata": {
        "id": "Zb6oCbAiZGyD"
      },
      "source": [
        "question = \"Is it okay to share diazepam, with other people?\"\n",
        "\n",
        "answers = [\"Never share this medicine with another person, especially someone with a history of drug abuse or addiction.\",\n",
        "           \"Keep the medication in a place where others cannot get to it.\",\n",
        "           \"Selling or giving away this medicine is against the law.\"]\n",
        "\n",
        "qa = {'question':question, 'answers':answers}\n",
        "\n",
        "qas.append(qa)"
      ],
      "execution_count": null,
      "outputs": []
    },
    {
      "cell_type": "code",
      "metadata": {
        "id": "vgiNVIdmZGv-"
      },
      "source": [
        "question = \"Is it okay to suddenly stop diazepam?\"\n",
        "\n",
        "answers = [\"Do not stop using this medicine suddenly, even if you feel fine.\",\n",
        "           \"Stopping suddenly may cause increased seizures or unpleasant withdrawal symptoms.\",\n",
        "           \"Follow your doctor's instructions about tapering your dose.\"]\n",
        "\n",
        "qa = {'question':question, 'answers':answers}\n",
        "\n",
        "qas.append(qa)"
      ],
      "execution_count": null,
      "outputs": []
    },
    {
      "cell_type": "code",
      "metadata": {
        "id": "hohvsa0U-JTT"
      },
      "source": [
        "question = \"Is it alright to stop diazepam suddenly?\"\n",
        "\n",
        "answers = [\"Do not stop using this medicine suddenly, even if you feel fine.\",\n",
        "           \"Stopping suddenly may cause increased seizures or unpleasant withdrawal symptoms.\",\n",
        "           \"Follow your doctor's instructions about tapering your dose.\"]\n",
        "\n",
        "qa = {'question':question, 'answers':answers}\n",
        "\n",
        "qas.append(qa)"
      ],
      "execution_count": null,
      "outputs": []
    },
    {
      "cell_type": "code",
      "metadata": {
        "id": "rVDXvx0LZGtn"
      },
      "source": [
        "question = \"How should I store diazepam?\"\n",
        "\n",
        "answers = [\"Store at room temperature away from moisture, heat, and light.\"]\n",
        "\n",
        "qa = {'question':question, 'answers':answers}\n",
        "\n",
        "qas.append(qa)"
      ],
      "execution_count": null,
      "outputs": []
    },
    {
      "cell_type": "code",
      "metadata": {
        "id": "jHJPPe5sZGrH"
      },
      "source": [
        "question = \"What happens if I miss a dosage of diazepam?\"\n",
        "\n",
        "answers = [\"Take the medicine as soon as you can, but skip the missed dose if it is almost time for your next dose.\",\n",
        "           \"Do not take two doses at one time.\"]\n",
        "\n",
        "qa = {'question':question, 'answers':answers}\n",
        "\n",
        "qas.append(qa)"
      ],
      "execution_count": null,
      "outputs": []
    },
    {
      "cell_type": "code",
      "metadata": {
        "id": "T0LjT169ZGog"
      },
      "source": [
        "question = \"What happens if I overdose of diazepam?\"\n",
        "\n",
        "answers = [\"Seek emergency medical attention or call the Poison Help line at 1-800-222-1222.\",\n",
        "           \"An overdose of diazepam can be fatal if you take it with alcohol, opioid medicine, or other drugs that cause drowsiness or slow your breathing.\"]\n",
        "\n",
        "qa = {'question':question, 'answers':answers}\n",
        "\n",
        "qas.append(qa)"
      ],
      "execution_count": null,
      "outputs": []
    },
    {
      "cell_type": "code",
      "metadata": {
        "id": "u5D1cmgIZGlz"
      },
      "source": [
        "question = \"What are symptoms diazepam overdose?\"\n",
        "\n",
        "answers = [\"Overdose symptoms may include extreme drowsiness, loss of balance or coordination, limp or weak muscles, slow breathing, or coma.\"]\n",
        "\n",
        "qa = {'question':question, 'answers':answers}\n",
        "\n",
        "qas.append(qa)"
      ],
      "execution_count": null,
      "outputs": []
    },
    {
      "cell_type": "code",
      "metadata": {
        "id": "bOCCUo8ndC3W"
      },
      "source": [
        "data.append({'context':context, 'qas':qas})"
      ],
      "execution_count": null,
      "outputs": []
    },
    {
      "cell_type": "code",
      "metadata": {
        "id": "cvUsRGpOdCzL"
      },
      "source": [
        "context = \"\"\"Take lisinopril exactly as prescribed by your doctor. Follow all directions on your prescription label. Your doctor may occasionally change your dose to make sure you get the best results. Do not take this medicine in larger or smaller amounts or for longer than recommended.\n",
        "Drink plenty of water each day while you are taking this medicine.\n",
        "Lisinopril can be taken with or without food.\n",
        "Measure liquid medicine with the dosing syringe provided, or with a special dose-measuring spoon or medicine cup. If you do not have a dose-measuring device, ask your pharmacist for one.\n",
        "Your blood pressure will need to be checked often. Your kidney function and electrolytes may also need to be checked.\n",
        "Call your doctor if you have ongoing vomiting or diarrhea, or if you are sweating more than usual. You can easily become dehydrated while taking this medicine. This can lead to very low blood pressure, electrolyte disorders, or kidney failure while you are taking lisinopril.\n",
        "If you need surgery, tell the surgeon ahead of time that you are using lisinopril.\n",
        "If you have high blood pressure, keep using this medication even if you feel well. High blood pressure often has no symptoms. You may need to use blood pressure medication for the rest of your life.\n",
        "Store at room temperature away from moisture and heat. Do not freeze the oral liquid.\n",
        "Detailed Lisinopril dosage information\n",
        "What happens if I miss a dose?\n",
        "Take the missed dose as soon as you remember. Skip the missed dose if it is almost time for your next scheduled dose. Do not take extra medicine to make up the missed dose.\n",
        "What happens if I overdose?\n",
        "Seek emergency medical attention or call the Poison Help line at 1-800-222-1222.\"\"\""
      ],
      "execution_count": null,
      "outputs": []
    },
    {
      "cell_type": "code",
      "metadata": {
        "id": "iazY553kdCwj"
      },
      "source": [
        "question = \"How should I store lisinopril?\"\n",
        "\n",
        "answers = [\"Store at room temperature away from moisture and heat.\",\n",
        "           \"Do not freeze the oral liquid.\"]\n",
        "\n",
        "qas = [{'question':question, 'answers':answers}]"
      ],
      "execution_count": null,
      "outputs": []
    },
    {
      "cell_type": "code",
      "metadata": {
        "id": "gDl_wD-7-U3F"
      },
      "source": [
        "question = \"Should I store lisinopril in a refrigerator?\"\n",
        "\n",
        "answers = [\"Store at room temperature away from moisture and heat.\",\n",
        "           \"Do not freeze the oral liquid.\"]\n",
        "\n",
        "qa = {'question':question, 'answers':answers}\n",
        "\n",
        "qas.append(qa)"
      ],
      "execution_count": null,
      "outputs": []
    },
    {
      "cell_type": "code",
      "metadata": {
        "id": "9OP9tL9OdCuO"
      },
      "source": [
        "question = \"What happens if I miss a dose of lisinopril?\"\n",
        "\n",
        "answers = [\"Take the missed dose as soon as you remember.\",\n",
        "           \"Skip the missed dose if it is almost time for your next scheduled dose.\",\n",
        "           \"Do not take extra medicine to make up the missed dose.\"]\n",
        "\n",
        "qa = {'question':question, 'answers':answers}\n",
        "\n",
        "qas.append(qa)"
      ],
      "execution_count": null,
      "outputs": []
    },
    {
      "cell_type": "code",
      "metadata": {
        "id": "nWmiStthdCr2"
      },
      "source": [
        "question = \"What happens if I overdose of lisinopril?\"\n",
        "\n",
        "answers = [\"Seek emergency medical attention or call the Poison Help line at 1-800-222-1222.\"]\n",
        "\n",
        "qa = {'question':question, 'answers':answers}\n",
        "\n",
        "qas.append(qa)"
      ],
      "execution_count": null,
      "outputs": []
    },
    {
      "cell_type": "code",
      "metadata": {
        "id": "Dvtm9SgYdCpj"
      },
      "source": [
        "data.append({'context':context, 'qas':qas})"
      ],
      "execution_count": null,
      "outputs": []
    },
    {
      "cell_type": "code",
      "metadata": {
        "id": "qf3M6m0vdCnM"
      },
      "source": [
        "context = \"\"\"Take Ativan exactly as it was prescribed for you. Follow the directions on your prescription label and read all medication guides. Never use lorazepam in larger amounts, or for longer than prescribed. Tell your doctor if you feel an increased urge to use more of this medicine.\n",
        "Never share this medicine with another person, especially someone with a history of drug abuse or addiction. MISUSE CAN CAUSE ADDICTION, OVERDOSE, OR DEATH. Keep the medication in a place where others cannot get to it. Selling or giving away this medicine is against the law.\n",
        "Measure liquid medicine carefully. Use the dosing syringe provided, or use a medicine dose-measuring device (not a kitchen spoon).\n",
        "Do not take Ativan for longer than 4 months unless your doctor tells you to. Call your doctor if your symptoms do not improve, or if they get worse.\n",
        "If you use this medicine long-term, you may need frequent medical tests.\n",
        "Do not stop using Ativan suddenly, or you could have unpleasant withdrawal symptoms. Follow your doctor's instructions about tapering your dose.\n",
        "Store at room temperature away from moisture and heat.\n",
        "Keep track of your medicine. You should be aware if anyone is using it improperly or without a prescription.\n",
        "Detailed Ativan dosage information\n",
        "What happens if I miss a dose?\n",
        "Take the medicine as soon as you can, but skip the missed dose if it is almost time for your next dose. Do not take two doses at one time.\n",
        "What happens if I overdose?\n",
        "Seek emergency medical attention or call the Poison Help line at 1-800-222-1222. An overdose of lorazepam can be fatal if you take it with alcohol, opioid medicine, or other drugs that cause drowsiness or slow your breathing.\n",
        "Overdose symptoms may include extreme drowsiness, confusion, slurred speech, feeling restless, muscle weakness, loss of balance or coordination, feeling light-headed, slow heartbeats, weak or shallow breathing, or coma.\"\"\""
      ],
      "execution_count": null,
      "outputs": []
    },
    {
      "cell_type": "code",
      "metadata": {
        "id": "afzSO0VadCkq"
      },
      "source": [
        "question = \"Is it okay taking Lorazepam in larger amounts?\"\n",
        "\n",
        "answers = [\"Never use lorazepam in larger amounts, or for longer than prescribed.\"]\n",
        "\n",
        "qas = [{'question':question, 'answers':answers}]"
      ],
      "execution_count": null,
      "outputs": []
    },
    {
      "cell_type": "code",
      "metadata": {
        "id": "o0UAlGBwdCh8"
      },
      "source": [
        "question = \"Is it okay to share Ativan with another person?\"\n",
        "\n",
        "answers = [\"Never share this medicine with another person, especially someone with a history of drug abuse or addiction.\"]\n",
        "\n",
        "qa = {'question':question, 'answers':answers}\n",
        "\n",
        "qas.append(qa)"
      ],
      "execution_count": null,
      "outputs": []
    },
    {
      "cell_type": "code",
      "metadata": {
        "id": "BwMjJI03Z4UD"
      },
      "source": [
        "question = \"What can casue misuse of Lorazepam?\"\n",
        "\n",
        "answers = [\"MISUSE CAN CAUSE ADDICTION, OVERDOSE, OR DEATH.\"]\n",
        "\n",
        "qa = {'question':question, 'answers':answers}\n",
        "\n",
        "qas.append(qa)"
      ],
      "execution_count": null,
      "outputs": []
    },
    {
      "cell_type": "code",
      "metadata": {
        "id": "FwoiceP8tweC"
      },
      "source": [
        "question = \"Is it legally okay to giving away Lorazepam?\"\n",
        "\n",
        "answers = [\"Selling or giving away this medicine is against the law.\"]\n",
        "\n",
        "qa = {'question':question, 'answers':answers}\n",
        "\n",
        "qas.append(qa)"
      ],
      "execution_count": null,
      "outputs": []
    },
    {
      "cell_type": "code",
      "metadata": {
        "id": "Vja11AeitwZu"
      },
      "source": [
        "question = \"How long Lorazepam should be taken?\"\n",
        "\n",
        "answers = [\"Do not take Ativan for longer than 4 months unless your doctor tells you to.\"]\n",
        "\n",
        "qa = {'question':question, 'answers':answers}\n",
        "\n",
        "qas.append(qa)"
      ],
      "execution_count": null,
      "outputs": []
    },
    {
      "cell_type": "code",
      "metadata": {
        "id": "SJBTm09OtwXU"
      },
      "source": [
        "question = \"How Lorazepam should be stored?\"\n",
        "\n",
        "answers = [\"Store at room temperature away from moisture and heat.\"]\n",
        "\n",
        "qa = {'question':question, 'answers':answers}\n",
        "\n",
        "qas.append(qa)"
      ],
      "execution_count": null,
      "outputs": []
    },
    {
      "cell_type": "code",
      "metadata": {
        "id": "XSsRncnRtwU4"
      },
      "source": [
        "question = \"What is overdose symptoms of Ativan?\"\n",
        "\n",
        "answers = [\"Overdose symptoms may include extreme drowsiness, confusion, slurred speech, feeling restless, muscle weakness, loss of balance or coordination, feeling light-headed, slow heartbeats, weak or shallow breathing, or coma.\"]\n",
        "\n",
        "qa = {'question':question, 'answers':answers}\n",
        "\n",
        "qas.append(qa)"
      ],
      "execution_count": null,
      "outputs": []
    },
    {
      "cell_type": "code",
      "metadata": {
        "id": "U6BpK7Z7twSO"
      },
      "source": [
        "question = \"What happens if I miss a dose of Ativan?\"\n",
        "\n",
        "answers = [\"Take the medicine as soon as you can, but skip the missed dose if it is almost time for your next dose.\",\n",
        "           \"Do not take two doses at one time.\"]\n",
        "\n",
        "qa = {'question':question, 'answers':answers}\n",
        "\n",
        "qas.append(qa)"
      ],
      "execution_count": null,
      "outputs": []
    },
    {
      "cell_type": "code",
      "metadata": {
        "id": "KfNHPrk4v8cg"
      },
      "source": [
        "question = \"What happens if I overdose of Ativan?\"\n",
        "\n",
        "answers = [\"Seek emergency medical attention or call the Poison Help line at 1-800-222-1222.\",\n",
        "           \"An overdose of lorazepam can be fatal if you take it with alcohol, opioid medicine, or other drugs that cause drowsiness or slow your breathing.\"]\n",
        "\n",
        "qa = {'question':question, 'answers':answers}\n",
        "\n",
        "qas.append(qa)"
      ],
      "execution_count": null,
      "outputs": []
    },
    {
      "cell_type": "code",
      "metadata": {
        "id": "xZmq4kyBv8YL"
      },
      "source": [
        "data.append({'context':context, 'qas':qas})"
      ],
      "execution_count": null,
      "outputs": []
    },
    {
      "cell_type": "code",
      "metadata": {
        "id": "ALE6mf8sv8Vu"
      },
      "source": [
        "context = \"\"\"Do not take ciprofloxacin with dairy products such as milk or yogurt, or with calcium-fortified juice. You may eat or drink these products with your meals, but do not use them alone when taking this medicine.\n",
        "Antibiotic medicines can cause diarrhea, which may be a sign of a new infection. If you have diarrhea that is watery or bloody, call your doctor before using anti-diarrhea medicine.\n",
        "Ciprofloxacin could make you sunburn more easily. Avoid sunlight or tanning beds. Wear protective clothing and use sunscreen (SPF 30 or higher) when you are outdoors. Tell your doctor if you have severe burning, redness, itching, rash, or swelling after being in the sun.\n",
        "Avoid driving or hazardous activity until you know how ciprofloxacin will affect you. Your reactions could be impaired.\"\"\""
      ],
      "execution_count": null,
      "outputs": []
    },
    {
      "cell_type": "code",
      "metadata": {
        "id": "UXhgB2vPv8TZ"
      },
      "source": [
        "question = \"Which products should not be used with ciprofloxacin?\"\n",
        "\n",
        "answers = [\"Do not take ciprofloxacin with dairy products such as milk or yogurt, or with calcium-fortified juice.\",\n",
        "           \"You may eat or drink these products with your meals, but do not use them alone when taking this medicine.\"]\n",
        "\n",
        "qas = [{'question':question, 'answers':answers}]"
      ],
      "execution_count": null,
      "outputs": []
    },
    {
      "cell_type": "code",
      "metadata": {
        "id": "Qyr-djLL-yXY"
      },
      "source": [
        "question = \"Can you tell me which products should never be used with ciprofloxacin\"\n",
        "\n",
        "answers = [\"Do not take ciprofloxacin with dairy products such as milk or yogurt, or with calcium-fortified juice.\",\n",
        "           \"You may eat or drink these products with your meals, but do not use them alone when taking this medicine.\"]\n",
        "\n",
        "qa = {'question':question, 'answers':answers}\n",
        "\n",
        "qas.append(qa)"
      ],
      "execution_count": null,
      "outputs": []
    },
    {
      "cell_type": "code",
      "metadata": {
        "id": "O-XhD-7Uv8Qz"
      },
      "source": [
        "question = \"What can happened after using Antibiotic medicines?\"\n",
        "\n",
        "answers = [\"Antibiotic medicines can cause diarrhea, which may be a sign of a new infection.\",\n",
        "           \"If you have diarrhea that is watery or bloody, call your doctor before using anti-diarrhea medicine.\",\n",
        "           \"Ciprofloxacin could make you sunburn more easily.\",\n",
        "           \"Avoid sunlight or tanning beds.\",\n",
        "           \"Wear protective clothing and use sunscreen (SPF 30 or higher) when you are outdoors.\",\n",
        "           \"Tell your doctor if you have severe burning, redness, itching, rash, or swelling after being in the sun.\"]\n",
        "\n",
        "qa = {'question':question, 'answers':answers}\n",
        "\n",
        "qas.append(qa)"
      ],
      "execution_count": null,
      "outputs": []
    },
    {
      "cell_type": "code",
      "metadata": {
        "id": "vuVOj6QR0uzq"
      },
      "source": [
        "data.append({'context':context, 'qas':qas})"
      ],
      "execution_count": null,
      "outputs": []
    },
    {
      "cell_type": "code",
      "metadata": {
        "id": "IpK4BjVz0uuq"
      },
      "source": [
        "context = \"\"\"You should not use metformin if you have severe kidney disease, metabolic acidosis, or diabetic ketoacidosis (call your doctor for treatment).\n",
        "If you need to have any type of x-ray or CT scan using a dye that is injected into your veins, you may need to temporarily stop taking metformin.\n",
        "Though extremely rare, you may develop lactic acidosis, a dangerous build-up of lactic acid in your blood. Call your doctor or get emergency medical help if you have unusual muscle pain, trouble breathing, stomach pain, dizziness, feeling cold, or feeling very weak or tired.\n",
        "Before taking this medicine\n",
        "You should not use metformin if you are allergic to it, or if you have:\n",
        "severe kidney disease; or\n",
        "metabolic acidosis or diabetic ketoacidosis (call your doctor for treatment).\n",
        "If you need to have surgery or any type of x-ray or CT scan using a dye that is injected into your veins, you may need to temporarily stop taking metformin. Be sure your caregivers know ahead of time that you are using this medication.\n",
        "Tell your doctor if you have ever had:\n",
        "kidney disease (your kidney function may need to be checked before you take this medicine);\n",
        "high ketone levels in your blood or urine;\n",
        "heart disease, congestive heart failure;\n",
        "liver disease; or\n",
        "if you also use insulin, or other oral diabetes medications.\n",
        "You may develop lactic acidosis, a dangerous build-up of lactic acid in your blood. This may be more likely if you have other medical conditions, a severe infection, chronic alcoholism, or if you are 65 or older. Ask your doctor about your risk.\n",
        "Follow your doctor's instructions about using metformin if you are pregnant or you become pregnant. Controlling diabetes is very important during pregnancy, and having high blood sugar may cause complications in both the mother and the baby. Tell your doctor if you become pregnant while taking metformin.\n",
        "Metformin may stimulate ovulation in a premenopausal woman and may increase the risk of unintended pregnancy. Talk to your doctor about your risk.\n",
        "You should not breastfeed while using this medicine.\n",
        "Metformin should not be given to a child younger than 10 years old. Some forms of metformin are not approved for use by anyone younger than 18 years old.\"\"\""
      ],
      "execution_count": null,
      "outputs": []
    },
    {
      "cell_type": "code",
      "metadata": {
        "id": "HixYNJmd0uru"
      },
      "source": [
        "question = \"In which condition I should not take metformin?\"\n",
        "\n",
        "answers = [\"You should not use metformin if you have severe kidney disease, metabolic acidosis, or diabetic ketoacidosis (call your doctor for treatment).\"\n",
        "           \"If you need to have any type of x-ray or CT scan using a dye that is injected into your veins, you may need to temporarily stop taking metformin.\"]\n",
        "\n",
        "qas = [{'question':question, 'answers':answers}]"
      ],
      "execution_count": null,
      "outputs": []
    },
    {
      "cell_type": "code",
      "metadata": {
        "id": "APq-p1hO0upC"
      },
      "source": [
        "question = \"What should I do before taking metformin?\"\n",
        "\n",
        "answers = [\"You should not use metformin if you are allergic to it, or if you have:\",\n",
        "           \"severe kidney disease; or\",\n",
        "           \"metabolic acidosis or diabetic ketoacidosis (call your doctor for treatment).\",\n",
        "           \"If you need to have surgery or any type of x-ray or CT scan using a dye that is injected into your veins, you may need to temporarily stop taking metformin.\",\n",
        "           \"Be sure your caregivers know ahead of time that you are using this medication.\"]\n",
        "\n",
        "qa = {'question':question, 'answers':answers}\n",
        "\n",
        "qas.append(qa)"
      ],
      "execution_count": null,
      "outputs": []
    },
    {
      "cell_type": "code",
      "metadata": {
        "id": "dgNcCwhD0ums"
      },
      "source": [
        "question = \"In which condition, I should talk with my doctor about taking metformin?\"\n",
        "\n",
        "answers = [\"kidney disease (your kidney function may need to be checked before you take this medicine);\",\n",
        "           \"high ketone levels in your blood or urine;\",\n",
        "           \"heart disease, congestive heart failure;\",\n",
        "           \"liver disease; or\",\n",
        "           \"if you also use insulin, or other oral diabetes medications.\"]\n",
        "\n",
        "qa = {'question':question, 'answers':answers}\n",
        "\n",
        "qas.append(qa)"
      ],
      "execution_count": null,
      "outputs": []
    },
    {
      "cell_type": "code",
      "metadata": {
        "id": "7gYaaxtG0ukB"
      },
      "source": [
        "question = \"In which situation, I have to talk to my doctor about taking metformin?\"\n",
        "\n",
        "answers = [\"kidney disease (your kidney function may need to be checked before you take this medicine);\",\n",
        "           \"high ketone levels in your blood or urine;\",\n",
        "           \"heart disease, congestive heart failure;\",\n",
        "           \"liver disease; or\",\n",
        "           \"if you also use insulin, or other oral diabetes medications.\"]\n",
        "\n",
        "qa = {'question':question, 'answers':answers}\n",
        "\n",
        "qas.append(qa)"
      ],
      "execution_count": null,
      "outputs": []
    },
    {
      "cell_type": "code",
      "metadata": {
        "id": "k5C0iHK60uhM"
      },
      "source": [
        "question = \"How much is the least age needed to use metformin?\"\n",
        "\n",
        "answers = [\"Metformin should not be given to a child younger than 10 years old.\",\n",
        "           \"Some forms of metformin are not approved for use by anyone younger than 18 years old.\"]\n",
        "\n",
        "qa = {'question':question, 'answers':answers}\n",
        "\n",
        "qas.append(qa)"
      ],
      "execution_count": null,
      "outputs": []
    },
    {
      "cell_type": "code",
      "metadata": {
        "id": "yVbMg8Hb-iDI"
      },
      "source": [
        "question = \"What is the minimum age to take metformin?\"\n",
        "\n",
        "answers = [\"Metformin should not be given to a child younger than 10 years old.\",\n",
        "           \"Some forms of metformin are not approved for use by anyone younger than 18 years old.\"]\n",
        "\n",
        "qa = {'question':question, 'answers':answers}\n",
        "\n",
        "qas.append(qa)"
      ],
      "execution_count": null,
      "outputs": []
    },
    {
      "cell_type": "code",
      "metadata": {
        "id": "ntt6fB3x0ueg"
      },
      "source": [
        "data.append({'context':context, 'qas':qas})"
      ],
      "execution_count": null,
      "outputs": []
    },
    {
      "cell_type": "code",
      "metadata": {
        "id": "waff0MOAB5Hd"
      },
      "source": [
        "qa = {'version':'v0.1.0', 'data':data}"
      ],
      "execution_count": null,
      "outputs": []
    },
    {
      "cell_type": "code",
      "metadata": {
        "colab": {
          "base_uri": "https://localhost:8080/"
        },
        "id": "cO46GnwXCB3s",
        "outputId": "220b84b2-0ff0-4223-9515-0b150accc598"
      },
      "source": [
        "%cd drive/MyDrive/"
      ],
      "execution_count": null,
      "outputs": [
        {
          "output_type": "stream",
          "name": "stdout",
          "text": [
            "/content/drive/MyDrive\n"
          ]
        }
      ]
    },
    {
      "cell_type": "code",
      "metadata": {
        "id": "lFeKALbqB6ij"
      },
      "source": [
        "json.dump(qa, open( \"qa.json\", 'w' ) )"
      ],
      "execution_count": null,
      "outputs": []
    },
    {
      "cell_type": "code",
      "metadata": {
        "id": "a28kESNhB8Gl"
      },
      "source": [
        ""
      ],
      "execution_count": null,
      "outputs": []
    }
  ]
}